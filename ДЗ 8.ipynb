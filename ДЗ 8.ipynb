{
 "cells": [
  {
   "cell_type": "code",
   "execution_count": 1,
   "id": "574334d5",
   "metadata": {},
   "outputs": [],
   "source": [
    "import numpy as np"
   ]
  },
  {
   "cell_type": "code",
   "execution_count": 2,
   "id": "d8aee51e",
   "metadata": {
    "scrolled": true
   },
   "outputs": [],
   "source": [
    "url = 'https://archive.ics.uci.edu/ml/machine-learning-databases/iris/iris.data'\n",
    "iris = np.genfromtxt(url , delimiter= ',', dtype='object' )"
   ]
  },
  {
   "cell_type": "code",
   "execution_count": 3,
   "id": "3032abcc",
   "metadata": {},
   "outputs": [
    {
     "data": {
      "text/plain": [
       "array([[b'5.1', b'3.5', b'1.4', b'0.2', b'Iris-setosa'],\n",
       "       [b'4.9', b'3.0', b'1.4', b'0.2', b'Iris-setosa'],\n",
       "       [b'4.7', b'3.2', b'1.3', b'0.2', b'Iris-setosa'],\n",
       "       [b'4.6', b'3.1', b'1.5', b'0.2', b'Iris-setosa'],\n",
       "       [b'5.0', b'3.6', b'1.4', b'0.2', b'Iris-setosa'],\n",
       "       [b'5.4', b'3.9', b'1.7', b'0.4', b'Iris-setosa'],\n",
       "       [b'4.6', b'3.4', b'1.4', b'0.3', b'Iris-setosa'],\n",
       "       [b'5.0', b'3.4', b'1.5', b'0.2', b'Iris-setosa'],\n",
       "       [b'4.4', b'2.9', b'1.4', b'0.2', b'Iris-setosa'],\n",
       "       [b'4.9', b'3.1', b'1.5', b'0.1', b'Iris-setosa']], dtype=object)"
      ]
     },
     "execution_count": 3,
     "metadata": {},
     "output_type": "execute_result"
    }
   ],
   "source": [
    "iris[:10]"
   ]
  },
  {
   "cell_type": "code",
   "execution_count": 4,
   "id": "07e23e51",
   "metadata": {},
   "outputs": [
    {
     "data": {
      "text/plain": [
       "(150, 5)"
      ]
     },
     "execution_count": 4,
     "metadata": {},
     "output_type": "execute_result"
    }
   ],
   "source": [
    "iris.shape"
   ]
  },
  {
   "cell_type": "code",
   "execution_count": 5,
   "id": "8b967243",
   "metadata": {},
   "outputs": [],
   "source": [
    "atr_1 = np.genfromtxt(url , delimiter= ',', dtype='float', usecols= [0])\n",
    "atr_2 = np.genfromtxt(url , delimiter= ',', dtype='float', usecols= [1])\n",
    "atr_3 = np.genfromtxt(url , delimiter= ',', dtype='float', usecols= [2])\n",
    "atr_4 = np.genfromtxt(url , delimiter= ',', dtype='float', usecols= [3])\n",
    "atr_5 = np.genfromtxt(url , delimiter= ',', dtype='str', usecols= [4])"
   ]
  },
  {
   "cell_type": "code",
   "execution_count": 6,
   "id": "a2d1eff7",
   "metadata": {},
   "outputs": [
    {
     "name": "stdout",
     "output_type": "stream",
     "text": [
      "Среднее для atr_1 =  5.843333333333334\n",
      "Максимум для art_1 =  7.9\n",
      "Минимум для atr_1 =  4.3\n",
      "Медианна для atr_1 =  5.8\n",
      "Процентиль для 0.25 atr_1 =  5.1\n",
      "Процентиль для 0.75 atr_1 =  5.8\n",
      "n\\Среднее для atr_2 =  3.0540000000000003\n",
      "Максимум для atr_2 =  4.4\n",
      "Минимум для atr_2 =  2.0\n",
      "Медианна для atr_2 =  3.0\n",
      "Процентиль для 0.25 atr_2 =  2.8\n",
      "Процентиль для 0.75 atr_2 =  3.0\n",
      "n\\Среднее для atr_3 =  3.758666666666666\n",
      "Максимум для atr_3 =  6.9\n",
      "Минимум для atr_3 =  1.0\n",
      "Медианна для atr_3 =  4.35\n",
      "Процентиль для 0.25 atr_3 =  1.6\n",
      "Процентиль для 0.75 atr_3 =  4.35\n",
      "n\\Среднее для atr_4 =  1.1986666666666668\n",
      "Максимум для atr_4 =  2.5\n",
      "Минимум для atr_4 =  0.1\n",
      "Медианна для atr_4 =  1.3\n",
      "Процентиль для 0.25 atr_4 =  0.3\n",
      "Процентиль для 0.75 atr_4 =  1.3\n"
     ]
    }
   ],
   "source": [
    "print ('Среднее для atr_1 = ', np.mean(atr_1))\n",
    "print('Максимум для art_1 = ', np.max(atr_1))\n",
    "print('Минимум для atr_1 = ', np.min(atr_1))\n",
    "print('Медианна для atr_1 = ', np.median(atr_1))\n",
    "print('Процентиль для 0.25 atr_1 = ', np.percentile(atr_1, 25))\n",
    "print('Процентиль для 0.75 atr_1 = ', np.percentile(atr_1, 50))\n",
    "\n",
    "print ('n\\Среднее для atr_2 = ', np.mean(atr_2))\n",
    "print('Максимум для atr_2 = ', np.max(atr_2))\n",
    "print('Минимум для atr_2 = ', np.min(atr_2))\n",
    "print('Медианна для atr_2 = ', np.median(atr_2))\n",
    "print('Процентиль для 0.25 atr_2 = ', np.percentile(atr_2, 25))\n",
    "print('Процентиль для 0.75 atr_2 = ', np.percentile(atr_2, 50))\n",
    "\n",
    "print ('n\\Среднее для atr_3 = ', np.mean(atr_3))\n",
    "print('Максимум для atr_3 = ', np.max(atr_3))\n",
    "print('Минимум для atr_3 = ', np.min(atr_3))\n",
    "print('Медианна для atr_3 = ', np.median(atr_3))\n",
    "print('Процентиль для 0.25 atr_3 = ', np.percentile(atr_3, 25))\n",
    "print('Процентиль для 0.75 atr_3 = ', np.percentile(atr_3, 50))\n",
    "\n",
    "print ('n\\Среднее для atr_4 = ', np.mean(atr_4))\n",
    "print('Максимум для atr_4 = ', np.max(atr_4))\n",
    "print('Минимум для atr_4 = ', np.min(atr_4))\n",
    "print('Медианна для atr_4 = ', np.median(atr_4))\n",
    "print('Процентиль для 0.25 atr_4 = ', np.percentile(atr_4, 25))\n",
    "print('Процентиль для 0.75 atr_4 = ', np.percentile(atr_4, 50))\n",
    "\n"
   ]
  },
  {
   "cell_type": "code",
   "execution_count": 15,
   "id": "0d089f94",
   "metadata": {
    "scrolled": false
   },
   "outputs": [],
   "source": [
    "import matplotlib.pyplot as plt"
   ]
  },
  {
   "cell_type": "code",
   "execution_count": 16,
   "id": "156e178b",
   "metadata": {
    "scrolled": false
   },
   "outputs": [
    {
     "data": {
      "image/png": "[encoded data removed]",
      "text/plain": [
       "<Figure size 432x288 with 1 Axes>"
      ]
     },
     "metadata": {
      "needs_background": "light"
     },
     "output_type": "display_data"
    }
   ],
   "source": [
    "plt.hist(atr_1, bins = 'auto')\n",
    "plt.title('Гистограмма для atr_1')\n",
    "plt.show()"
   ]
  },
  {
   "cell_type": "code",
   "execution_count": 75,
   "id": "5f3c16db",
   "metadata": {},
   "outputs": [
    {
     "data": {
      "image/png": "[encoded data removed]",
      "text/plain": [
       "<Figure size 432x288 with 4 Axes>"
      ]
     },
     "metadata": {
      "needs_background": "light"
     },
     "output_type": "display_data"
    }
   ],
   "source": [
    "fig, ((ax1, ax2), (ax3, ax4)) = plt.subplots(nrows=2, ncols=2)\n",
    "\n",
    "ax1.hist(atr_1)\n",
    "ax1.set_title('Гистограмма для atr_1')\n",
    "\n",
    "ax2.hist(atr_2)\n",
    "ax2.set_title('Гистограмма для atr_2')\n",
    "\n",
    "ax3.hist(atr_3)\n",
    "ax3.set_title('Гистограмма для atr_3')\n",
    "\n",
    "ax4.hist(atr_4)\n",
    "ax4.set_title('Гистограмма для atr_4')\n",
    "\n",
    "fig.tight_layout()\n",
    "plt.show()\n"
   ]
  },
  {
   "cell_type": "code",
   "execution_count": 28,
   "id": "3cdb887c",
   "metadata": {
    "scrolled": false
   },
   "outputs": [
    {
     "data": {
      "text/plain": [
       "array(['Iris-setosa', 'Iris-setosa', 'Iris-setosa', 'Iris-setosa',\n",
       "       'Iris-setosa', 'Iris-setosa', 'Iris-setosa', 'Iris-setosa',\n",
       "       'Iris-setosa', 'Iris-setosa', 'Iris-setosa', 'Iris-setosa',\n",
       "       'Iris-setosa', 'Iris-setosa', 'Iris-setosa', 'Iris-setosa',\n",
       "       'Iris-setosa', 'Iris-setosa', 'Iris-setosa', 'Iris-setosa',\n",
       "       'Iris-setosa', 'Iris-setosa', 'Iris-setosa', 'Iris-setosa',\n",
       "       'Iris-setosa', 'Iris-setosa', 'Iris-setosa', 'Iris-setosa',\n",
       "       'Iris-setosa', 'Iris-setosa', 'Iris-setosa', 'Iris-setosa',\n",
       "       'Iris-setosa', 'Iris-setosa', 'Iris-setosa', 'Iris-setosa',\n",
       "       'Iris-setosa', 'Iris-setosa', 'Iris-setosa', 'Iris-setosa',\n",
       "       'Iris-setosa', 'Iris-setosa', 'Iris-setosa', 'Iris-setosa',\n",
       "       'Iris-setosa', 'Iris-setosa', 'Iris-setosa', 'Iris-setosa',\n",
       "       'Iris-setosa', 'Iris-setosa', 'Iris-versicolor', 'Iris-versicolor',\n",
       "       'Iris-versicolor', 'Iris-versicolor', 'Iris-versicolor',\n",
       "       'Iris-versicolor', 'Iris-versicolor', 'Iris-versicolor',\n",
       "       'Iris-versicolor', 'Iris-versicolor', 'Iris-versicolor',\n",
       "       'Iris-versicolor', 'Iris-versicolor', 'Iris-versicolor',\n",
       "       'Iris-versicolor', 'Iris-versicolor', 'Iris-versicolor',\n",
       "       'Iris-versicolor', 'Iris-versicolor', 'Iris-versicolor',\n",
       "       'Iris-versicolor', 'Iris-versicolor', 'Iris-versicolor',\n",
       "       'Iris-versicolor', 'Iris-versicolor', 'Iris-versicolor',\n",
       "       'Iris-versicolor', 'Iris-versicolor', 'Iris-versicolor',\n",
       "       'Iris-versicolor', 'Iris-versicolor', 'Iris-versicolor',\n",
       "       'Iris-versicolor', 'Iris-versicolor', 'Iris-versicolor',\n",
       "       'Iris-versicolor', 'Iris-versicolor', 'Iris-versicolor',\n",
       "       'Iris-versicolor', 'Iris-versicolor', 'Iris-versicolor',\n",
       "       'Iris-versicolor', 'Iris-versicolor', 'Iris-versicolor',\n",
       "       'Iris-versicolor', 'Iris-versicolor', 'Iris-versicolor',\n",
       "       'Iris-versicolor', 'Iris-versicolor', 'Iris-versicolor',\n",
       "       'Iris-virginica', 'Iris-virginica', 'Iris-virginica',\n",
       "       'Iris-virginica', 'Iris-virginica', 'Iris-virginica',\n",
       "       'Iris-virginica', 'Iris-virginica', 'Iris-virginica',\n",
       "       'Iris-virginica', 'Iris-virginica', 'Iris-virginica',\n",
       "       'Iris-virginica', 'Iris-virginica', 'Iris-virginica',\n",
       "       'Iris-virginica', 'Iris-virginica', 'Iris-virginica',\n",
       "       'Iris-virginica', 'Iris-virginica', 'Iris-virginica',\n",
       "       'Iris-virginica', 'Iris-virginica', 'Iris-virginica',\n",
       "       'Iris-virginica', 'Iris-virginica', 'Iris-virginica',\n",
       "       'Iris-virginica', 'Iris-virginica', 'Iris-virginica',\n",
       "       'Iris-virginica', 'Iris-virginica', 'Iris-virginica',\n",
       "       'Iris-virginica', 'Iris-virginica', 'Iris-virginica',\n",
       "       'Iris-virginica', 'Iris-virginica', 'Iris-virginica',\n",
       "       'Iris-virginica', 'Iris-virginica', 'Iris-virginica',\n",
       "       'Iris-virginica', 'Iris-virginica', 'Iris-virginica',\n",
       "       'Iris-virginica', 'Iris-virginica', 'Iris-virginica',\n",
       "       'Iris-virginica', 'Iris-virginica'], dtype='<U15')"
      ]
     },
     "execution_count": 28,
     "metadata": {},
     "output_type": "execute_result"
    }
   ],
   "source": [
    "atr_5"
   ]
  },
  {
   "cell_type": "code",
   "execution_count": 39,
   "id": "1683a792",
   "metadata": {},
   "outputs": [
    {
     "data": {
      "text/plain": [
       "array(['Iris-setosa', 'Iris-versicolor', 'Iris-virginica'], dtype='<U15')"
      ]
     },
     "execution_count": 39,
     "metadata": {},
     "output_type": "execute_result"
    }
   ],
   "source": [
    "np.unique(atr_5)"
   ]
  },
  {
   "cell_type": "code",
   "execution_count": 84,
   "id": "9c3bef6e",
   "metadata": {
    "scrolled": true
   },
   "outputs": [
    {
     "ename": "TypeError",
     "evalue": "only integer scalar arrays can be converted to a scalar index",
     "output_type": "error",
     "traceback": [
      "\u001b[1;31m---------------------------------------------------------------------------\u001b[0m",
      "\u001b[1;31mTypeError\u001b[0m                                 Traceback (most recent call last)",
      "\u001b[1;32m~\\AppData\\Local\\Temp/ipykernel_15348/3862308785.py\u001b[0m in \u001b[0;36m<module>\u001b[1;34m\u001b[0m\n\u001b[0;32m      2\u001b[0m \u001b[1;33m\u001b[0m\u001b[0m\n\u001b[0;32m      3\u001b[0m \u001b[1;32mfor\u001b[0m \u001b[0mgroup_val\u001b[0m \u001b[1;32min\u001b[0m \u001b[0mnp\u001b[0m\u001b[1;33m.\u001b[0m\u001b[0munique\u001b[0m\u001b[1;33m(\u001b[0m\u001b[0matr_5\u001b[0m\u001b[1;33m)\u001b[0m\u001b[1;33m:\u001b[0m\u001b[1;33m\u001b[0m\u001b[1;33m\u001b[0m\u001b[0m\n\u001b[1;32m----> 4\u001b[1;33m     \u001b[0mnew_1\u001b[0m\u001b[1;33m.\u001b[0m\u001b[0mappend\u001b[0m\u001b[1;33m(\u001b[0m\u001b[0matr_1\u001b[0m\u001b[1;33m[\u001b[0m\u001b[0matr_5\u001b[0m\u001b[1;33m==\u001b[0m\u001b[0mgroup_val\u001b[0m\u001b[1;33m]\u001b[0m\u001b[1;33m.\u001b[0m\u001b[0mmean\u001b[0m\u001b[1;33m(\u001b[0m\u001b[1;33m)\u001b[0m\u001b[1;33m)\u001b[0m\u001b[1;33m\u001b[0m\u001b[1;33m\u001b[0m\u001b[0m\n\u001b[0m",
      "\u001b[1;31mTypeError\u001b[0m: only integer scalar arrays can be converted to a scalar index"
     ]
    }
   ],
   "source": [
    "new_1 = []\n",
    "\n",
    "for group_val in np.unique(atr_5):\n",
    "    new_1.append(atr_1[atr_5==group_val].mean())"
   ]
  },
  {
   "cell_type": "code",
   "execution_count": 85,
   "id": "765c0501",
   "metadata": {},
   "outputs": [
    {
     "data": {
      "text/plain": [
       "[]"
      ]
     },
     "execution_count": 85,
     "metadata": {},
     "output_type": "execute_result"
    }
   ],
   "source": [
    "new_1"
   ]
  },
  {
   "cell_type": "code",
   "execution_count": null,
   "id": "c8c0369e",
   "metadata": {},
   "outputs": [],
   "source": []
  },
  {
   "cell_type": "code",
   "execution_count": null,
   "id": "21fde42f",
   "metadata": {},
   "outputs": [],
   "source": []
  },
  {
   "cell_type": "code",
   "execution_count": null,
   "id": "7c76d439",
   "metadata": {},
   "outputs": [],
   "source": []
  },
  {
   "cell_type": "code",
   "execution_count": null,
   "id": "2786c245",
   "metadata": {},
   "outputs": [],
   "source": []
  },
  {
   "cell_type": "code",
   "execution_count": null,
   "id": "b83f6ef6",
   "metadata": {},
   "outputs": [],
   "source": []
  }
 ],
 "metadata": {
  "kernelspec": {
   "display_name": "Python 3 (ipykernel)",
   "language": "python",
   "name": "python3"
  },
  "language_info": {
   "codemirror_mode": {
    "name": "ipython",
    "version": 3
   },
   "file_extension": ".py",
   "mimetype": "text/x-python",
   "name": "python",
   "nbconvert_exporter": "python",
   "pygments_lexer": "ipython3",
   "version": "3.10.0"
  }
 },
 "nbformat": 4,
 "nbformat_minor": 5
}
