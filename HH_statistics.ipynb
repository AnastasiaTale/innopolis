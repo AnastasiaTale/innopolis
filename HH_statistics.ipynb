{
  "nbformat": 4,
  "nbformat_minor": 0,
  "metadata": {
    "colab": {
      "name": "HH statistics.ipynb",
      "provenance": [],
      "authorship_tag": "ABX9TyPasJDKYYv4NBv6JqeZ1J0W"
    },
    "kernelspec": {
      "name": "python3",
      "display_name": "Python 3"
    },
    "language_info": {
      "name": "python"
    }
  },
  "cells": [
    {
      "cell_type": "code",
      "execution_count": 31,
      "metadata": {
        "colab": {
          "base_uri": "https://localhost:8080/"
        },
        "id": "igd-VOW6Zbdp",
        "outputId": "84c84c10-8667-4b53-f418-c0e1d071e230"
      },
      "outputs": [
        {
          "output_type": "stream",
          "name": "stdout",
          "text": [
            "Requirement already satisfied: requests in /usr/local/lib/python3.7/dist-packages (2.23.0)\n",
            "Requirement already satisfied: idna<3,>=2.5 in /usr/local/lib/python3.7/dist-packages (from requests) (2.10)\n",
            "Requirement already satisfied: certifi>=2017.4.17 in /usr/local/lib/python3.7/dist-packages (from requests) (2021.10.8)\n",
            "Requirement already satisfied: urllib3!=1.25.0,!=1.25.1,<1.26,>=1.21.1 in /usr/local/lib/python3.7/dist-packages (from requests) (1.24.3)\n",
            "Requirement already satisfied: chardet<4,>=3.0.2 in /usr/local/lib/python3.7/dist-packages (from requests) (3.0.4)\n",
            "Requirement already satisfied: params in /usr/local/lib/python3.7/dist-packages (0.9.0)\n",
            "Requirement already satisfied: six in /usr/local/lib/python3.7/dist-packages (from params) (1.15.0)\n",
            "Requirement already satisfied: response in /usr/local/lib/python3.7/dist-packages (0.5.0)\n",
            "Requirement already satisfied: numpy in /usr/local/lib/python3.7/dist-packages (from response) (1.19.5)\n",
            "Requirement already satisfied: matplotlib>=2.2.0 in /usr/local/lib/python3.7/dist-packages (from response) (3.2.2)\n",
            "Requirement already satisfied: scipy in /usr/local/lib/python3.7/dist-packages (from response) (1.4.1)\n",
            "Requirement already satisfied: pyparsing!=2.0.4,!=2.1.2,!=2.1.6,>=2.0.1 in /usr/local/lib/python3.7/dist-packages (from matplotlib>=2.2.0->response) (3.0.7)\n",
            "Requirement already satisfied: cycler>=0.10 in /usr/local/lib/python3.7/dist-packages (from matplotlib>=2.2.0->response) (0.11.0)\n",
            "Requirement already satisfied: python-dateutil>=2.1 in /usr/local/lib/python3.7/dist-packages (from matplotlib>=2.2.0->response) (2.8.2)\n",
            "Requirement already satisfied: kiwisolver>=1.0.1 in /usr/local/lib/python3.7/dist-packages (from matplotlib>=2.2.0->response) (1.3.2)\n",
            "Requirement already satisfied: six>=1.5 in /usr/local/lib/python3.7/dist-packages (from python-dateutil>=2.1->matplotlib>=2.2.0->response) (1.15.0)\n"
          ]
        }
      ],
      "source": [
        "!pip install requests\n",
        "!pip install params\n",
        "!pip install response\n"
      ]
    },
    {
      "cell_type": "code",
      "source": [
        "!pip install parse"
      ],
      "metadata": {
        "colab": {
          "base_uri": "https://localhost:8080/"
        },
        "id": "C9y7AfXpi611",
        "outputId": "f0a2d13d-9253-44c3-eb35-1a87ff0a9e65"
      },
      "execution_count": 62,
      "outputs": [
        {
          "output_type": "stream",
          "name": "stdout",
          "text": [
            "Requirement already satisfied: parse in /usr/local/lib/python3.7/dist-packages (1.19.0)\n"
          ]
        }
      ]
    },
    {
      "cell_type": "code",
      "source": [
        "!pip install predict"
      ],
      "metadata": {
        "colab": {
          "base_uri": "https://localhost:8080/"
        },
        "id": "QkWKTcVljuCg",
        "outputId": "cf666591-5f0d-4869-ccad-c92cfc30fdb0"
      },
      "execution_count": 78,
      "outputs": [
        {
          "output_type": "stream",
          "name": "stdout",
          "text": [
            "Requirement already satisfied: predict in /usr/local/lib/python3.7/dist-packages (3.1.14)\n",
            "Requirement already satisfied: configparser>=3.7.4 in /usr/local/lib/python3.7/dist-packages (from predict) (5.2.0)\n",
            "Requirement already satisfied: joblib>=0.10.2 in /usr/local/lib/python3.7/dist-packages (from predict) (1.1.0)\n",
            "Requirement already satisfied: SimpleITK>=1.2.0 in /usr/local/lib/python3.7/dist-packages (from predict) (2.1.1)\n",
            "Requirement already satisfied: scikit-image<=0.16.2 in /usr/local/lib/python3.7/dist-packages (from predict) (0.16.2)\n",
            "Requirement already satisfied: numpy>=1.16.3 in /usr/local/lib/python3.7/dist-packages (from predict) (1.19.5)\n",
            "Requirement already satisfied: pandas>=0.24.2 in /usr/local/lib/python3.7/dist-packages (from predict) (1.3.5)\n",
            "Requirement already satisfied: PyWavelets<=1.0.0,>=0.4.0 in /usr/local/lib/python3.7/dist-packages (from predict) (1.0.0)\n",
            "Requirement already satisfied: pydicom>=1.2.2 in /usr/local/lib/python3.7/dist-packages (from predict) (2.2.2)\n",
            "Requirement already satisfied: pyradiomics>=3.0 in /usr/local/lib/python3.7/dist-packages (from predict) (3.0.1)\n",
            "Requirement already satisfied: natsort>=5.0.1 in /usr/local/lib/python3.7/dist-packages (from predict) (5.5.0)\n",
            "Requirement already satisfied: scipy>=1.2.1 in /usr/local/lib/python3.7/dist-packages (from predict) (1.4.1)\n",
            "Requirement already satisfied: phasepack>=1.5 in /usr/local/lib/python3.7/dist-packages (from predict) (1.5)\n",
            "Requirement already satisfied: tables>=3.5.1 in /usr/local/lib/python3.7/dist-packages (from predict) (3.7.0)\n",
            "Requirement already satisfied: python-dateutil>=2.7.3 in /usr/local/lib/python3.7/dist-packages (from pandas>=0.24.2->predict) (2.8.2)\n",
            "Requirement already satisfied: pytz>=2017.3 in /usr/local/lib/python3.7/dist-packages (from pandas>=0.24.2->predict) (2018.9)\n",
            "Requirement already satisfied: pykwalify>=1.6.0 in /usr/local/lib/python3.7/dist-packages (from pyradiomics>=3.0->predict) (1.8.0)\n",
            "Requirement already satisfied: six>=1.10.0 in /usr/local/lib/python3.7/dist-packages (from pyradiomics>=3.0->predict) (1.15.0)\n",
            "Requirement already satisfied: ruamel.yaml>=0.16.0 in /usr/local/lib/python3.7/dist-packages (from pykwalify>=1.6.0->pyradiomics>=3.0->predict) (0.17.20)\n",
            "Requirement already satisfied: docopt>=0.6.2 in /usr/local/lib/python3.7/dist-packages (from pykwalify>=1.6.0->pyradiomics>=3.0->predict) (0.6.2)\n",
            "Requirement already satisfied: ruamel.yaml.clib>=0.2.6 in /usr/local/lib/python3.7/dist-packages (from ruamel.yaml>=0.16.0->pykwalify>=1.6.0->pyradiomics>=3.0->predict) (0.2.6)\n",
            "Requirement already satisfied: matplotlib!=3.0.0,>=2.0.0 in /usr/local/lib/python3.7/dist-packages (from scikit-image<=0.16.2->predict) (3.2.2)\n",
            "Requirement already satisfied: imageio>=2.3.0 in /usr/local/lib/python3.7/dist-packages (from scikit-image<=0.16.2->predict) (2.4.1)\n",
            "Requirement already satisfied: pillow>=4.3.0 in /usr/local/lib/python3.7/dist-packages (from scikit-image<=0.16.2->predict) (7.1.2)\n",
            "Requirement already satisfied: networkx>=2.0 in /usr/local/lib/python3.7/dist-packages (from scikit-image<=0.16.2->predict) (2.6.3)\n",
            "Requirement already satisfied: cycler>=0.10 in /usr/local/lib/python3.7/dist-packages (from matplotlib!=3.0.0,>=2.0.0->scikit-image<=0.16.2->predict) (0.11.0)\n",
            "Requirement already satisfied: kiwisolver>=1.0.1 in /usr/local/lib/python3.7/dist-packages (from matplotlib!=3.0.0,>=2.0.0->scikit-image<=0.16.2->predict) (1.3.2)\n",
            "Requirement already satisfied: pyparsing!=2.0.4,!=2.1.2,!=2.1.6,>=2.0.1 in /usr/local/lib/python3.7/dist-packages (from matplotlib!=3.0.0,>=2.0.0->scikit-image<=0.16.2->predict) (3.0.7)\n",
            "Requirement already satisfied: packaging in /usr/local/lib/python3.7/dist-packages (from tables>=3.5.1->predict) (21.3)\n",
            "Requirement already satisfied: numexpr>=2.6.2 in /usr/local/lib/python3.7/dist-packages (from tables>=3.5.1->predict) (2.8.1)\n"
          ]
        }
      ]
    },
    {
      "cell_type": "code",
      "source": [
        "!pip install AsciiTable"
      ],
      "metadata": {
        "colab": {
          "base_uri": "https://localhost:8080/"
        },
        "id": "LM6wGhqMZoxY",
        "outputId": "2ccdc60e-0c8e-4f70-dfea-7cf9351b639f"
      },
      "execution_count": 3,
      "outputs": [
        {
          "output_type": "stream",
          "name": "stdout",
          "text": [
            "Collecting AsciiTable\n",
            "  Downloading asciitable-0.8.0.zip (320 kB)\n",
            "\u001b[?25l\r\u001b[K     |█                               | 10 kB 23.3 MB/s eta 0:00:01\r\u001b[K     |██                              | 20 kB 27.9 MB/s eta 0:00:01\r\u001b[K     |███                             | 30 kB 30.1 MB/s eta 0:00:01\r\u001b[K     |████                            | 40 kB 20.2 MB/s eta 0:00:01\r\u001b[K     |█████▏                          | 51 kB 10.0 MB/s eta 0:00:01\r\u001b[K     |██████▏                         | 61 kB 10.4 MB/s eta 0:00:01\r\u001b[K     |███████▏                        | 71 kB 9.7 MB/s eta 0:00:01\r\u001b[K     |████████▏                       | 81 kB 10.7 MB/s eta 0:00:01\r\u001b[K     |█████████▏                      | 92 kB 11.2 MB/s eta 0:00:01\r\u001b[K     |██████████▎                     | 102 kB 9.0 MB/s eta 0:00:01\r\u001b[K     |███████████▎                    | 112 kB 9.0 MB/s eta 0:00:01\r\u001b[K     |████████████▎                   | 122 kB 9.0 MB/s eta 0:00:01\r\u001b[K     |█████████████▎                  | 133 kB 9.0 MB/s eta 0:00:01\r\u001b[K     |██████████████▎                 | 143 kB 9.0 MB/s eta 0:00:01\r\u001b[K     |███████████████▍                | 153 kB 9.0 MB/s eta 0:00:01\r\u001b[K     |████████████████▍               | 163 kB 9.0 MB/s eta 0:00:01\r\u001b[K     |█████████████████▍              | 174 kB 9.0 MB/s eta 0:00:01\r\u001b[K     |██████████████████▍             | 184 kB 9.0 MB/s eta 0:00:01\r\u001b[K     |███████████████████▍            | 194 kB 9.0 MB/s eta 0:00:01\r\u001b[K     |████████████████████▌           | 204 kB 9.0 MB/s eta 0:00:01\r\u001b[K     |█████████████████████▌          | 215 kB 9.0 MB/s eta 0:00:01\r\u001b[K     |██████████████████████▌         | 225 kB 9.0 MB/s eta 0:00:01\r\u001b[K     |███████████████████████▌        | 235 kB 9.0 MB/s eta 0:00:01\r\u001b[K     |████████████████████████▋       | 245 kB 9.0 MB/s eta 0:00:01\r\u001b[K     |█████████████████████████▋      | 256 kB 9.0 MB/s eta 0:00:01\r\u001b[K     |██████████████████████████▋     | 266 kB 9.0 MB/s eta 0:00:01\r\u001b[K     |███████████████████████████▋    | 276 kB 9.0 MB/s eta 0:00:01\r\u001b[K     |████████████████████████████▋   | 286 kB 9.0 MB/s eta 0:00:01\r\u001b[K     |█████████████████████████████▊  | 296 kB 9.0 MB/s eta 0:00:01\r\u001b[K     |██████████████████████████████▊ | 307 kB 9.0 MB/s eta 0:00:01\r\u001b[K     |███████████████████████████████▊| 317 kB 9.0 MB/s eta 0:00:01\r\u001b[K     |████████████████████████████████| 320 kB 9.0 MB/s \n",
            "\u001b[?25hBuilding wheels for collected packages: AsciiTable\n",
            "  Building wheel for AsciiTable (setup.py) ... \u001b[?25l\u001b[?25hdone\n",
            "  Created wheel for AsciiTable: filename=asciitable-0.8.0-py3-none-any.whl size=45593 sha256=25a6e22d53121ec2688d8f9aaa465d7bfaac769eccdef22ad65ca70ae19659cc\n",
            "  Stored in directory: /root/.cache/pip/wheels/a1/a7/66/9896fd7df73a6c8c06b2b1fe1973fdcb8275828c6a81c4cfdc\n",
            "Successfully built AsciiTable\n",
            "Installing collected packages: AsciiTable\n",
            "Successfully installed AsciiTable-0.8.0\n"
          ]
        }
      ]
    },
    {
      "cell_type": "code",
      "source": [
        "!pip install terminaltables "
      ],
      "metadata": {
        "colab": {
          "base_uri": "https://localhost:8080/"
        },
        "id": "cW2cdNdAZzTP",
        "outputId": "2a5280f5-c659-4492-d77d-428f1a275985"
      },
      "execution_count": 5,
      "outputs": [
        {
          "output_type": "stream",
          "name": "stdout",
          "text": [
            "Collecting terminaltables\n",
            "  Downloading terminaltables-3.1.10-py2.py3-none-any.whl (15 kB)\n",
            "Installing collected packages: terminaltables\n",
            "Successfully installed terminaltables-3.1.10\n"
          ]
        }
      ]
    },
    {
      "cell_type": "code",
      "source": [
        "!pip install -r requirements.txt"
      ],
      "metadata": {
        "colab": {
          "base_uri": "https://localhost:8080/"
        },
        "id": "vtr73t2shGfj",
        "outputId": "67cfbccc-f0bc-49b8-91fd-7df0232cbcca"
      },
      "execution_count": 41,
      "outputs": [
        {
          "output_type": "stream",
          "name": "stdout",
          "text": [
            "Requirement already satisfied: requests==2.26.0 in /usr/local/lib/python3.7/dist-packages (from -r requirements.txt (line 1)) (2.26.0)\n",
            "Requirement already satisfied: terminaltables==3.1.0 in /usr/local/lib/python3.7/dist-packages (from -r requirements.txt (line 2)) (3.1.0)\n",
            "Requirement already satisfied: certifi>=2017.4.17 in /usr/local/lib/python3.7/dist-packages (from requests==2.26.0->-r requirements.txt (line 1)) (2021.10.8)\n",
            "Requirement already satisfied: urllib3<1.27,>=1.21.1 in /usr/local/lib/python3.7/dist-packages (from requests==2.26.0->-r requirements.txt (line 1)) (1.24.3)\n",
            "Requirement already satisfied: idna<4,>=2.5 in /usr/local/lib/python3.7/dist-packages (from requests==2.26.0->-r requirements.txt (line 1)) (2.10)\n",
            "Requirement already satisfied: charset-normalizer~=2.0.0 in /usr/local/lib/python3.7/dist-packages (from requests==2.26.0->-r requirements.txt (line 1)) (2.0.11)\n"
          ]
        }
      ]
    },
    {
      "cell_type": "code",
      "source": [
        "!pip install python-dotenv"
      ],
      "metadata": {
        "colab": {
          "base_uri": "https://localhost:8080/"
        },
        "id": "vUfU4VV_qOjz",
        "outputId": "d47f691b-58b6-4d73-b921-5bd431e74b8d"
      },
      "execution_count": 79,
      "outputs": [
        {
          "output_type": "stream",
          "name": "stdout",
          "text": [
            "Collecting python-dotenv\n",
            "  Downloading python_dotenv-0.19.2-py2.py3-none-any.whl (17 kB)\n",
            "Installing collected packages: python-dotenv\n",
            "Successfully installed python-dotenv-0.19.2\n"
          ]
        }
      ]
    },
    {
      "cell_type": "code",
      "source": [
        "import requests\n",
        "from dotenv import load_dotenv\n",
        "import os\n",
        "from terminaltables import AsciiTable"
      ],
      "metadata": {
        "id": "zz5BtcMYmnbZ"
      },
      "execution_count": 80,
      "outputs": []
    },
    {
      "cell_type": "code",
      "source": [
        "def predict_salary(salary_from, salary_to):\n",
        "    if salary_from > 0 and salary_to > 0:\n",
        "        mid_salary = int((salary_from + salary_to) / 2)\n",
        "    elif salary_from > 0:\n",
        "        mid_salary = int(salary_from * 1.2)\n",
        "    elif salary_to > 0:\n",
        "        mid_salary = int(salary_to * 0.8)\n",
        "    return mid_salary"
      ],
      "metadata": {
        "id": "Ik9fNduTqWcV"
      },
      "execution_count": 81,
      "outputs": []
    },
    {
      "cell_type": "code",
      "source": [
        "def predict_rub_salary_hh(vacancy):\n",
        "    hh_rub_salary = 0\n",
        "    if vacancy['salary'] and vacancy['salary']['currency'] == 'RUR':\n",
        "        salary_from = vacancy['salary']['from'] or 0\n",
        "        salary_to = vacancy['salary']['to'] or 0\n",
        "        hh_rub_salary = predict_salary(salary_from, salary_to)\n",
        "    return hh_rub_salary\n"
      ],
      "metadata": {
        "id": "9STrv-AhqXu3"
      },
      "execution_count": 82,
      "outputs": []
    },
    {
      "cell_type": "code",
      "source": [
        "def predict_rub_salary_sj(vacancy):\n",
        "    sj_predict_salary = 0\n",
        "    salary_from = vacancy['payment_from']\n",
        "    salary_to = vacancy['payment_to']\n",
        "    if vacancy['currency'] == 'rub':\n",
        "        sj_predict_salary = predict_salary(salary_from, salary_to)\n",
        "    return sj_predict_salary"
      ],
      "metadata": {
        "id": "vjQIp0muqcV_"
      },
      "execution_count": 83,
      "outputs": []
    },
    {
      "cell_type": "code",
      "source": [
        "def get_vacancies_from_hh(language):\n",
        "    hh_url = 'https://api.hh.ru/vacancies'\n",
        "    page = 0  # первая страница поиска (нумерация с 0)\n",
        "    number_of_pages = 1\n",
        "    vacancies = []\n",
        "    while page < number_of_pages:\n",
        "        headers = {'User-Agent': 'HH-User-Agent'}\n",
        "        params = {\n",
        "            'area': 1,  # Код города, 1 - Москва\n",
        "            'text': 'программист ' + language,\n",
        "            'page': page  # Текущая страница поиска\n",
        "        }\n",
        "        response = requests.get(hh_url, headers=headers, params=params)\n",
        "        page += 1\n",
        "        try:\n",
        "            response.raise_for_status()\n",
        "        except requests.exceptions.HTTPError:\n",
        "            continue\n",
        "        response_data = response.json()\n",
        "        vacancies.extend(response_data['items'])\n",
        "        number_of_pages = response_data['pages'] - 1\n",
        "    return vacancies"
      ],
      "metadata": {
        "id": "Ns0OHuoRqfF8"
      },
      "execution_count": 84,
      "outputs": []
    },
    {
      "cell_type": "code",
      "source": [
        "def get_hh_statistic(vacancies):\n",
        "    if vacancies:\n",
        "        number_of_vacancies = len(vacancies)\n",
        "        salaries = [predict_rub_salary_hh(vacancy) for vacancy in vacancies if predict_rub_salary_hh(vacancy) != 0]\n",
        "        vacancies_processed = len(salaries)\n",
        "        average_salary = int(sum(salaries)/vacancies_processed)\n",
        "        hh_statistics = {\n",
        "            'vacancies_found': number_of_vacancies,\n",
        "            'vacancies_processed': vacancies_processed,\n",
        "            'average_salary': average_salary\n",
        "        }\n",
        "        return hh_statistics"
      ],
      "metadata": {
        "id": "kKjRFROSqj9u"
      },
      "execution_count": 85,
      "outputs": []
    },
    {
      "cell_type": "code",
      "source": [
        "def make_all_language_stat_from_hh(languages):\n",
        "    stat = {}\n",
        "    for language in languages:\n",
        "        vacancies = get_vacancies_from_hh(language)\n",
        "        stat[language] = get_hh_statistic(vacancies)\n",
        "    return stat"
      ],
      "metadata": {
        "id": "EKpglDOuqnSN"
      },
      "execution_count": 86,
      "outputs": []
    },
    {
      "cell_type": "code",
      "source": [
        "def get_vacancies_from_sj(language):\n",
        "    secret_key = os.getenv('SJ_KEY')\n",
        "    sj_url = 'https://api.superjob.ru/2.0/vacancies'\n",
        "    page = 0\n",
        "    next_page = True\n",
        "    vacancies = []\n",
        "    while next_page:\n",
        "        headers = {'X-Api-App-Id': secret_key}\n",
        "        params = {\n",
        "            'page': page,  # Номер страницы результата поиска\n",
        "            'count': 5,  # Количество результатов на страницу поиска\n",
        "            'keyword': language,  # Язык программирования\n",
        "            'town': 4,  # Название города или его ID. 4 - Москва\n",
        "            'catalogues': 48,  # Список разделов каталога отраслей. 48 - \"Разработка, программирование\"\n",
        "            'no_agreement': 1  # Без вакансий, где оклад по договоренности\n",
        "        }\n",
        "        response = requests.get(sj_url, headers=headers, params=params)\n",
        "        page += 1\n",
        "        try:\n",
        "            response.raise_for_status()\n",
        "        except requests.exceptions.HTTPError:\n",
        "            next_page = False\n",
        "            continue\n",
        "        response_data = response.json()\n",
        "        vacancies.extend(response_data['objects'])\n",
        "        next_page = response_data['more']\n",
        "    return vacancies"
      ],
      "metadata": {
        "id": "CRASRiNZqp0Q"
      },
      "execution_count": 87,
      "outputs": []
    },
    {
      "cell_type": "code",
      "source": [
        "def get_sj_statistic(vacancies):\n",
        "    number_of_vacancies = len(vacancies)\n",
        "    if number_of_vacancies:\n",
        "        salaries = [predict_rub_salary_sj(vacancy) for vacancy in vacancies]\n",
        "        average_salary = int(sum(salaries)/number_of_vacancies)\n",
        "        sj_statistics = {\n",
        "            'vacancies_found': number_of_vacancies,\n",
        "            'vacancies_processed': number_of_vacancies,\n",
        "            'average_salary': average_salary\n",
        "        }\n",
        "        return sj_statistics\n"
      ],
      "metadata": {
        "id": "JDUUcqTqqslm"
      },
      "execution_count": 88,
      "outputs": []
    },
    {
      "cell_type": "code",
      "source": [
        "def make_all_language_stat_from_sj(languages):\n",
        "    stat = {}\n",
        "    for language in languages:\n",
        "        vacancies = get_vacancies_from_sj(language)\n",
        "        stat[language] = get_sj_statistic(vacancies)\n",
        "    return stat"
      ],
      "metadata": {
        "id": "DV_FjBiKqyCG"
      },
      "execution_count": 89,
      "outputs": []
    },
    {
      "cell_type": "code",
      "source": [
        "def make_table(site_name, statistic):\n",
        "    title = '-----------------{} statistics'.format(site_name)\n",
        "    if statistic:\n",
        "        table_data = [[\n",
        "            'lang', 'vacancies_found', 'vacancies_processed', 'average_salary'\n",
        "        ]]\n",
        "        for language, language_stat in statistic.items():\n",
        "            if not language_stat:\n",
        "                continue\n",
        "            row = [language]\n",
        "            for key, value in language_stat.items():\n",
        "                row.append(value)\n",
        "            table_data.append(row)\n",
        "        return AsciiTable(table_data, title).table"
      ],
      "metadata": {
        "id": "T-GLqmbjq1B4"
      },
      "execution_count": 90,
      "outputs": []
    },
    {
      "cell_type": "code",
      "source": [
        "if __name__ == '__main__':\n",
        "    load_dotenv()\n",
        "    languages = ['Python', 'Java', 'Javascript', 'TypeScript', 'Swift', 'Scala', 'Objective-C', 'Shell', 'Go', 'C', \n",
        "                 'PHP', 'Ruby', 'c++', 'c#', '1c']\n",
        "    site_name = 'HH'\n",
        "    print(make_table(site_name, make_all_language_stat_from_hh(languages)))\n",
        "\n",
        "    site_name = 'SJ'\n",
        "    print(make_table(site_name, make_all_language_stat_from_sj(languages)))"
      ],
      "metadata": {
        "colab": {
          "base_uri": "https://localhost:8080/"
        },
        "id": "FZEkqPNMq3u2",
        "outputId": "671feed1-0544-4e98-e2bd-4b1537c9a828"
      },
      "execution_count": 91,
      "outputs": [
        {
          "output_type": "stream",
          "name": "stdout",
          "text": [
            "+-----------------HH statistics-+---------------------+----------------+\n",
            "| lang        | vacancies_found | vacancies_processed | average_salary |\n",
            "+-------------+-----------------+---------------------+----------------+\n",
            "| Python      | 1980            | 562                 | 207976         |\n",
            "| Java        | 1980            | 493                 | 242102         |\n",
            "| Javascript  | 1980            | 939                 | 179838         |\n",
            "| TypeScript  | 1720            | 499                 | 216268         |\n",
            "| Swift       | 680             | 201                 | 252143         |\n",
            "| Scala       | 260             | 47                  | 267638         |\n",
            "| Objective-C | 240             | 67                  | 249330         |\n",
            "| Shell       | 260             | 50                  | 175180         |\n",
            "| Go          | 1100            | 226                 | 236125         |\n",
            "| C           | 1980            | 841                 | 174731         |\n",
            "| PHP         | 1960            | 893                 | 166789         |\n",
            "| Ruby        | 300             | 84                  | 214576         |\n",
            "| c++         | 1860            | 522                 | 184173         |\n",
            "| c#          | 1980            | 538                 | 186930         |\n",
            "| 1c          | 1980            | 1014                | 148347         |\n",
            "+-------------+-----------------+---------------------+----------------+\n",
            "+-----------------SJ statistics----------------+----------------+\n",
            "| lang | vacancies_found | vacancies_processed | average_salary |\n",
            "+------+-----------------+---------------------+----------------+\n"
          ]
        }
      ]
    }
  ]
}