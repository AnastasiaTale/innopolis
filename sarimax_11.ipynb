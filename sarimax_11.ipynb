{
  "nbformat": 4,
  "nbformat_minor": 0,
  "metadata": {
    "colab": {
      "name": "sarimax_11.ipynb",
      "provenance": [],
      "authorship_tag": "ABX9TyOZgGGXd/VJcUItse20cOef"
    },
    "kernelspec": {
      "name": "python3",
      "display_name": "Python 3"
    },
    "language_info": {
      "name": "python"
    }
  },
  "cells": [
    {
      "cell_type": "code",
      "execution_count": 1,
      "metadata": {
        "colab": {
          "base_uri": "https://localhost:8080/"
        },
        "id": "geWVwDh5zBNq",
        "outputId": "133cc1c7-af82-46b3-ec56-dd99cf6f2b02"
      },
      "outputs": [
        {
          "output_type": "stream",
          "name": "stdout",
          "text": [
            "Collecting pmdarima\n",
            "  Downloading pmdarima-1.8.4-cp37-cp37m-manylinux_2_17_x86_64.manylinux2014_x86_64.manylinux_2_24_x86_64.whl (1.4 MB)\n",
            "\u001b[K     |████████████████████████████████| 1.4 MB 5.3 MB/s \n",
            "\u001b[?25hRequirement already satisfied: scipy>=1.3.2 in /usr/local/lib/python3.7/dist-packages (from pmdarima) (1.4.1)\n",
            "Requirement already satisfied: urllib3 in /usr/local/lib/python3.7/dist-packages (from pmdarima) (1.24.3)\n",
            "Requirement already satisfied: pandas>=0.19 in /usr/local/lib/python3.7/dist-packages (from pmdarima) (1.1.5)\n",
            "Collecting statsmodels!=0.12.0,>=0.11\n",
            "  Downloading statsmodels-0.13.1-cp37-cp37m-manylinux_2_17_x86_64.manylinux2014_x86_64.whl (9.8 MB)\n",
            "\u001b[K     |████████████████████████████████| 9.8 MB 22.9 MB/s \n",
            "\u001b[?25hRequirement already satisfied: Cython!=0.29.18,>=0.29 in /usr/local/lib/python3.7/dist-packages (from pmdarima) (0.29.24)\n",
            "Requirement already satisfied: setuptools!=50.0.0,>=38.6.0 in /usr/local/lib/python3.7/dist-packages (from pmdarima) (57.4.0)\n",
            "Requirement already satisfied: numpy>=1.19.3 in /usr/local/lib/python3.7/dist-packages (from pmdarima) (1.19.5)\n",
            "Requirement already satisfied: scikit-learn>=0.22 in /usr/local/lib/python3.7/dist-packages (from pmdarima) (1.0.1)\n",
            "Requirement already satisfied: joblib>=0.11 in /usr/local/lib/python3.7/dist-packages (from pmdarima) (1.1.0)\n",
            "Requirement already satisfied: pytz>=2017.2 in /usr/local/lib/python3.7/dist-packages (from pandas>=0.19->pmdarima) (2018.9)\n",
            "Requirement already satisfied: python-dateutil>=2.7.3 in /usr/local/lib/python3.7/dist-packages (from pandas>=0.19->pmdarima) (2.8.2)\n",
            "Requirement already satisfied: six>=1.5 in /usr/local/lib/python3.7/dist-packages (from python-dateutil>=2.7.3->pandas>=0.19->pmdarima) (1.15.0)\n",
            "Requirement already satisfied: threadpoolctl>=2.0.0 in /usr/local/lib/python3.7/dist-packages (from scikit-learn>=0.22->pmdarima) (3.0.0)\n",
            "Requirement already satisfied: patsy>=0.5.2 in /usr/local/lib/python3.7/dist-packages (from statsmodels!=0.12.0,>=0.11->pmdarima) (0.5.2)\n",
            "Installing collected packages: statsmodels, pmdarima\n",
            "  Attempting uninstall: statsmodels\n",
            "    Found existing installation: statsmodels 0.10.2\n",
            "    Uninstalling statsmodels-0.10.2:\n",
            "      Successfully uninstalled statsmodels-0.10.2\n",
            "Successfully installed pmdarima-1.8.4 statsmodels-0.13.1\n"
          ]
        }
      ],
      "source": [
        "!pip install pmdarima"
      ]
    },
    {
      "cell_type": "code",
      "source": [
        "import pandas as pd\n",
        "import numpy as np\n",
        "%matplotlib inline\n"
      ],
      "metadata": {
        "id": "Xi93etGk0DKx"
      },
      "execution_count": 2,
      "outputs": []
    },
    {
      "cell_type": "code",
      "source": [
        "from statsmodels.tsa.statespace.sarimax import SARIMAX"
      ],
      "metadata": {
        "id": "ZKHZ1Dx30KQi"
      },
      "execution_count": 3,
      "outputs": []
    },
    {
      "cell_type": "code",
      "source": [
        "from statsmodels.graphics.tsaplots import plot_acf,plot_pacf\n",
        "from statsmodels.tsa.seasonal import seasonal_decompose\n",
        "from pmdarima import auto_arima    "
      ],
      "metadata": {
        "id": "ksB1-fVw0Qhd"
      },
      "execution_count": 4,
      "outputs": []
    },
    {
      "cell_type": "code",
      "source": [
        "from sklearn.metrics import mean_squared_error\n",
        "from statsmodels.tools.eval_measures import rmse"
      ],
      "metadata": {
        "id": "5peJJ0PJ0ZeQ"
      },
      "execution_count": 5,
      "outputs": []
    },
    {
      "cell_type": "code",
      "source": [
        "df = pd.read_csv('HospitalityEmployees.csv',index_col='Date',parse_dates=True)"
      ],
      "metadata": {
        "id": "g7SdgsV50ehP"
      },
      "execution_count": 6,
      "outputs": []
    },
    {
      "cell_type": "code",
      "source": [
        "df.head()"
      ],
      "metadata": {
        "colab": {
          "base_uri": "https://localhost:8080/",
          "height": 237
        },
        "id": "HQUdh8Ls0fdh",
        "outputId": "942cb4ae-a37a-4eb4-97ab-f7016373538f"
      },
      "execution_count": 7,
      "outputs": [
        {
          "output_type": "execute_result",
          "data": {
            "text/html": [
              "<div>\n",
              "<style scoped>\n",
              "    .dataframe tbody tr th:only-of-type {\n",
              "        vertical-align: middle;\n",
              "    }\n",
              "\n",
              "    .dataframe tbody tr th {\n",
              "        vertical-align: top;\n",
              "    }\n",
              "\n",
              "    .dataframe thead th {\n",
              "        text-align: right;\n",
              "    }\n",
              "</style>\n",
              "<table border=\"1\" class=\"dataframe\">\n",
              "  <thead>\n",
              "    <tr style=\"text-align: right;\">\n",
              "      <th></th>\n",
              "      <th>Employees</th>\n",
              "    </tr>\n",
              "    <tr>\n",
              "      <th>Date</th>\n",
              "      <th></th>\n",
              "    </tr>\n",
              "  </thead>\n",
              "  <tbody>\n",
              "    <tr>\n",
              "      <th>1990-01-01</th>\n",
              "      <td>1064.5</td>\n",
              "    </tr>\n",
              "    <tr>\n",
              "      <th>1990-02-01</th>\n",
              "      <td>1074.5</td>\n",
              "    </tr>\n",
              "    <tr>\n",
              "      <th>1990-03-01</th>\n",
              "      <td>1090.0</td>\n",
              "    </tr>\n",
              "    <tr>\n",
              "      <th>1990-04-01</th>\n",
              "      <td>1097.4</td>\n",
              "    </tr>\n",
              "    <tr>\n",
              "      <th>1990-05-01</th>\n",
              "      <td>1108.7</td>\n",
              "    </tr>\n",
              "  </tbody>\n",
              "</table>\n",
              "</div>"
            ],
            "text/plain": [
              "            Employees\n",
              "Date                 \n",
              "1990-01-01     1064.5\n",
              "1990-02-01     1074.5\n",
              "1990-03-01     1090.0\n",
              "1990-04-01     1097.4\n",
              "1990-05-01     1108.7"
            ]
          },
          "metadata": {},
          "execution_count": 7
        }
      ]
    },
    {
      "cell_type": "code",
      "source": [
        "df.index.freq = 'MS' \n",
        "print(len(df))\n",
        "print(df.head())"
      ],
      "metadata": {
        "colab": {
          "base_uri": "https://localhost:8080/"
        },
        "id": "UdXPrj1m0lVS",
        "outputId": "3afeab1d-79f5-4b08-81eb-266354f4684b"
      },
      "execution_count": 8,
      "outputs": [
        {
          "output_type": "stream",
          "name": "stdout",
          "text": [
            "348\n",
            "            Employees\n",
            "Date                 \n",
            "1990-01-01     1064.5\n",
            "1990-02-01     1074.5\n",
            "1990-03-01     1090.0\n",
            "1990-04-01     1097.4\n",
            "1990-05-01     1108.7\n"
          ]
        }
      ]
    },
    {
      "cell_type": "code",
      "source": [
        "title = 'California Hospitality Industry Employees' \n",
        "ylabel = 'Thousands of Persons' \n",
        "xlabel = ''"
      ],
      "metadata": {
        "id": "llrUnBmv0sHC"
      },
      "execution_count": 9,
      "outputs": []
    },
    {
      "cell_type": "code",
      "source": [
        "ax = df['Employees'].plot(figsize=(12,6),title=title) \n",
        "ax.autoscale(axis='x',tight=True)\n",
        "ax.set(xlabel=xlabel, ylabel=ylabel)"
      ],
      "metadata": {
        "colab": {
          "base_uri": "https://localhost:8080/",
          "height": 407
        },
        "id": "dtntfcme0uPs",
        "outputId": "6c242bfa-5ef9-42e8-9813-12f75e08ae36"
      },
      "execution_count": 10,
      "outputs": [
        {
          "output_type": "execute_result",
          "data": {
            "text/plain": [
              "[Text(0, 0.5, 'Thousands of Persons'), Text(0.5, 0, '')]"
            ]
          },
          "metadata": {},
          "execution_count": 10
        },
        {
          "output_type": "display_data",
          "data": {
            "image/png": "[encoded data removed]",
            "text/plain": [
              "<Figure size 864x432 with 1 Axes>"
            ]
          },
          "metadata": {
            "needs_background": "light"
          }
        }
      ]
    },
    {
      "cell_type": "code",
      "source": [
        "r = seasonal_decompose(df['Employees'],model='additive') "
      ],
      "metadata": {
        "id": "O2Wv6I8v02Ly"
      },
      "execution_count": 11,
      "outputs": []
    },
    {
      "cell_type": "code",
      "source": [
        "r.plot();"
      ],
      "metadata": {
        "colab": {
          "base_uri": "https://localhost:8080/",
          "height": 297
        },
        "id": "w4NddPo-04Mo",
        "outputId": "5b5cb358-b5e6-45c3-cd38-033b4b41a9eb"
      },
      "execution_count": 12,
      "outputs": [
        {
          "output_type": "display_data",
          "data": {
            "image/png": "[encoded data removed]",
            "text/plain": [
              "<Figure size 432x288 with 4 Axes>"
            ]
          },
          "metadata": {
            "needs_background": "light"
          }
        }
      ]
    },
    {
      "cell_type": "code",
      "source": [
        "import pmdarima"
      ],
      "metadata": {
        "id": "t8Lky1iq1Drf"
      },
      "execution_count": 16,
      "outputs": []
    },
    {
      "cell_type": "code",
      "source": [
        "auto_arima(df['Employees'],seasonal=True,m=12).summary()"
      ],
      "metadata": {
        "colab": {
          "base_uri": "https://localhost:8080/",
          "height": 1000
        },
        "id": "plCHXi1x1RAl",
        "outputId": "f5a79d5b-7c60-4088-9b4a-c8f7b5b1523c"
      },
      "execution_count": 17,
      "outputs": [
        {
          "output_type": "stream",
          "name": "stderr",
          "text": [
            "/usr/local/lib/python3.7/dist-packages/pmdarima/arima/_auto_solvers.py:522: ModelFitWarning: Error fitting  ARIMA(2,1,1)(1,0,1)[12] intercept (if you do not want to see these warnings, run with error_action=\"ignore\").\n",
            "Traceback:\n",
            "Traceback (most recent call last):\n",
            "  File \"/usr/local/lib/python3.7/dist-packages/pmdarima/arima/_auto_solvers.py\", line 506, in _fit_candidate_model\n",
            "    fit.fit(y, X=X, **fit_params)\n",
            "  File \"/usr/local/lib/python3.7/dist-packages/pmdarima/arima/arima.py\", line 597, in fit\n",
            "    self._fit(y, X, **fit_args)\n",
            "  File \"/usr/local/lib/python3.7/dist-packages/pmdarima/arima/arima.py\", line 518, in _fit\n",
            "    fit, self.arima_res_ = _fit_wrapper()\n",
            "  File \"/usr/local/lib/python3.7/dist-packages/pmdarima/arima/arima.py\", line 512, in _fit_wrapper\n",
            "    **fit_args)\n",
            "  File \"/usr/local/lib/python3.7/dist-packages/statsmodels/tsa/statespace/mlemodel.py\", line 709, in fit\n",
            "    skip_hessian=True, **kwargs)\n",
            "  File \"/usr/local/lib/python3.7/dist-packages/statsmodels/base/model.py\", line 571, in fit\n",
            "    full_output=full_output)\n",
            "  File \"/usr/local/lib/python3.7/dist-packages/statsmodels/base/optimizer.py\", line 244, in _fit\n",
            "    hess=hessian)\n",
            "  File \"/usr/local/lib/python3.7/dist-packages/statsmodels/base/optimizer.py\", line 654, in _fit_lbfgs\n",
            "    **extra_kwargs)\n",
            "  File \"/usr/local/lib/python3.7/dist-packages/scipy/optimize/lbfgsb.py\", line 199, in fmin_l_bfgs_b\n",
            "    **opts)\n",
            "  File \"/usr/local/lib/python3.7/dist-packages/scipy/optimize/lbfgsb.py\", line 345, in _minimize_lbfgsb\n",
            "    f, g = func_and_grad(x)\n",
            "  File \"/usr/local/lib/python3.7/dist-packages/scipy/optimize/lbfgsb.py\", line 290, in func_and_grad\n",
            "    f = fun(x, *args)\n",
            "  File \"/usr/local/lib/python3.7/dist-packages/scipy/optimize/optimize.py\", line 327, in function_wrapper\n",
            "    return function(*(wrapper_args + args))\n",
            "  File \"/usr/local/lib/python3.7/dist-packages/statsmodels/base/model.py\", line 531, in f\n",
            "    return -self.loglike(params, *args) / nobs\n",
            "  File \"/usr/local/lib/python3.7/dist-packages/statsmodels/tsa/statespace/mlemodel.py\", line 939, in loglike\n",
            "    loglike = self.ssm.loglike(complex_step=complex_step, **kwargs)\n",
            "  File \"/usr/local/lib/python3.7/dist-packages/statsmodels/tsa/statespace/kalman_filter.py\", line 983, in loglike\n",
            "    kfilter = self._filter(**kwargs)\n",
            "  File \"/usr/local/lib/python3.7/dist-packages/statsmodels/tsa/statespace/kalman_filter.py\", line 903, in _filter\n",
            "    self._initialize_state(prefix=prefix, complex_step=complex_step)\n",
            "  File \"/usr/local/lib/python3.7/dist-packages/statsmodels/tsa/statespace/representation.py\", line 984, in _initialize_state\n",
            "    complex_step=complex_step)\n",
            "  File \"statsmodels/tsa/statespace/_representation.pyx\", line 1373, in statsmodels.tsa.statespace._representation.dStatespace.initialize\n",
            "  File \"statsmodels/tsa/statespace/_representation.pyx\", line 1362, in statsmodels.tsa.statespace._representation.dStatespace.initialize\n",
            "  File \"statsmodels/tsa/statespace/_initialization.pyx\", line 288, in statsmodels.tsa.statespace._initialization.dInitialization.initialize\n",
            "  File \"statsmodels/tsa/statespace/_initialization.pyx\", line 406, in statsmodels.tsa.statespace._initialization.dInitialization.initialize_stationary_stationary_cov\n",
            "  File \"statsmodels/tsa/statespace/_tools.pyx\", line 1206, in statsmodels.tsa.statespace._tools._dsolve_discrete_lyapunov\n",
            "numpy.linalg.LinAlgError: LU decomposition error.\n",
            "\n",
            "  warnings.warn(warning_str, ModelFitWarning)\n"
          ]
        },
        {
          "output_type": "execute_result",
          "data": {
            "text/html": [
              "<table class=\"simpletable\">\n",
              "<caption>SARIMAX Results</caption>\n",
              "<tr>\n",
              "  <th>Dep. Variable:</th>                   <td>y</td>                <th>  No. Observations:  </th>    <td>348</td>   \n",
              "</tr>\n",
              "<tr>\n",
              "  <th>Model:</th>           <td>SARIMAX(1, 1, 2)x(1, 0, [1], 12)</td> <th>  Log Likelihood     </th> <td>-1098.252</td>\n",
              "</tr>\n",
              "<tr>\n",
              "  <th>Date:</th>                    <td>Mon, 13 Dec 2021</td>         <th>  AIC                </th> <td>2208.504</td> \n",
              "</tr>\n",
              "<tr>\n",
              "  <th>Time:</th>                        <td>12:49:15</td>             <th>  BIC                </th> <td>2231.600</td> \n",
              "</tr>\n",
              "<tr>\n",
              "  <th>Sample:</th>                          <td>0</td>                <th>  HQIC               </th> <td>2217.700</td> \n",
              "</tr>\n",
              "<tr>\n",
              "  <th></th>                              <td> - 348</td>              <th>                     </th>     <td> </td>    \n",
              "</tr>\n",
              "<tr>\n",
              "  <th>Covariance Type:</th>                <td>opg</td>               <th>                     </th>     <td> </td>    \n",
              "</tr>\n",
              "</table>\n",
              "<table class=\"simpletable\">\n",
              "<tr>\n",
              "      <td></td>        <th>coef</th>     <th>std err</th>      <th>z</th>      <th>P>|z|</th>  <th>[0.025</th>    <th>0.975]</th>  \n",
              "</tr>\n",
              "<tr>\n",
              "  <th>ar.L1</th>    <td>    0.9244</td> <td>    0.045</td> <td>   20.569</td> <td> 0.000</td> <td>    0.836</td> <td>    1.013</td>\n",
              "</tr>\n",
              "<tr>\n",
              "  <th>ma.L1</th>    <td>   -0.9440</td> <td>    0.070</td> <td>  -13.471</td> <td> 0.000</td> <td>   -1.081</td> <td>   -0.807</td>\n",
              "</tr>\n",
              "<tr>\n",
              "  <th>ma.L2</th>    <td>    0.1288</td> <td>    0.060</td> <td>    2.140</td> <td> 0.032</td> <td>    0.011</td> <td>    0.247</td>\n",
              "</tr>\n",
              "<tr>\n",
              "  <th>ar.S.L12</th> <td>    0.9972</td> <td>    0.001</td> <td>  703.740</td> <td> 0.000</td> <td>    0.994</td> <td>    1.000</td>\n",
              "</tr>\n",
              "<tr>\n",
              "  <th>ma.S.L12</th> <td>   -0.7490</td> <td>    0.043</td> <td>  -17.321</td> <td> 0.000</td> <td>   -0.834</td> <td>   -0.664</td>\n",
              "</tr>\n",
              "<tr>\n",
              "  <th>sigma2</th>   <td>   29.2997</td> <td>    1.717</td> <td>   17.062</td> <td> 0.000</td> <td>   25.934</td> <td>   32.665</td>\n",
              "</tr>\n",
              "</table>\n",
              "<table class=\"simpletable\">\n",
              "<tr>\n",
              "  <th>Ljung-Box (L1) (Q):</th>     <td>0.00</td> <th>  Jarque-Bera (JB):  </th> <td>67.43</td>\n",
              "</tr>\n",
              "<tr>\n",
              "  <th>Prob(Q):</th>                <td>0.99</td> <th>  Prob(JB):          </th> <td>0.00</td> \n",
              "</tr>\n",
              "<tr>\n",
              "  <th>Heteroskedasticity (H):</th> <td>0.86</td> <th>  Skew:              </th> <td>-0.11</td>\n",
              "</tr>\n",
              "<tr>\n",
              "  <th>Prob(H) (two-sided):</th>    <td>0.40</td> <th>  Kurtosis:          </th> <td>5.15</td> \n",
              "</tr>\n",
              "</table><br/><br/>Warnings:<br/>[1] Covariance matrix calculated using the outer product of gradients (complex-step)."
            ],
            "text/plain": [
              "<class 'statsmodels.iolib.summary.Summary'>\n",
              "\"\"\"\n",
              "                                      SARIMAX Results                                       \n",
              "============================================================================================\n",
              "Dep. Variable:                                    y   No. Observations:                  348\n",
              "Model:             SARIMAX(1, 1, 2)x(1, 0, [1], 12)   Log Likelihood               -1098.252\n",
              "Date:                              Mon, 13 Dec 2021   AIC                           2208.504\n",
              "Time:                                      12:49:15   BIC                           2231.600\n",
              "Sample:                                           0   HQIC                          2217.700\n",
              "                                              - 348                                         \n",
              "Covariance Type:                                opg                                         \n",
              "==============================================================================\n",
              "                 coef    std err          z      P>|z|      [0.025      0.975]\n",
              "------------------------------------------------------------------------------\n",
              "ar.L1          0.9244      0.045     20.569      0.000       0.836       1.013\n",
              "ma.L1         -0.9440      0.070    -13.471      0.000      -1.081      -0.807\n",
              "ma.L2          0.1288      0.060      2.140      0.032       0.011       0.247\n",
              "ar.S.L12       0.9972      0.001    703.740      0.000       0.994       1.000\n",
              "ma.S.L12      -0.7490      0.043    -17.321      0.000      -0.834      -0.664\n",
              "sigma2        29.2997      1.717     17.062      0.000      25.934      32.665\n",
              "===================================================================================\n",
              "Ljung-Box (L1) (Q):                   0.00   Jarque-Bera (JB):                67.43\n",
              "Prob(Q):                              0.99   Prob(JB):                         0.00\n",
              "Heteroskedasticity (H):               0.86   Skew:                            -0.11\n",
              "Prob(H) (two-sided):                  0.40   Kurtosis:                         5.15\n",
              "===================================================================================\n",
              "\n",
              "Warnings:\n",
              "[1] Covariance matrix calculated using the outer product of gradients (complex-step).\n",
              "\"\"\""
            ]
          },
          "metadata": {},
          "execution_count": 17
        }
      ]
    },
    {
      "cell_type": "code",
      "source": [
        "train = df.iloc[:len(df)-12]\n",
        "test = df.iloc[len(df)-12:]"
      ],
      "metadata": {
        "id": "L1A6Wh8l2Fj3"
      },
      "execution_count": 21,
      "outputs": []
    },
    {
      "cell_type": "code",
      "source": [
        "from statsmodels.tsa.statespace.sarimax import SARIMAX"
      ],
      "metadata": {
        "id": "j8f246A02Lr0"
      },
      "execution_count": 22,
      "outputs": []
    },
    {
      "cell_type": "code",
      "source": [
        "model = SARIMAX(train['Employees'],order=(1, 1, 2),seasonal_order=(1, 0, 1, 12))"
      ],
      "metadata": {
        "id": "4zIBLqKa2OGz"
      },
      "execution_count": 23,
      "outputs": []
    },
    {
      "cell_type": "code",
      "source": [
        "results = model.fit()"
      ],
      "metadata": {
        "colab": {
          "base_uri": "https://localhost:8080/"
        },
        "id": "42UZnP5U2Ql4",
        "outputId": "d86d9dc1-e1cb-4308-dfe8-6a6404f9c608"
      },
      "execution_count": 24,
      "outputs": [
        {
          "output_type": "stream",
          "name": "stderr",
          "text": [
            "/usr/local/lib/python3.7/dist-packages/statsmodels/tsa/statespace/sarimax.py:966: UserWarning: Non-stationary starting autoregressive parameters found. Using zeros as starting parameters.\n",
            "  warn('Non-stationary starting autoregressive parameters'\n",
            "/usr/local/lib/python3.7/dist-packages/statsmodels/tsa/statespace/sarimax.py:978: UserWarning: Non-invertible starting MA parameters found. Using zeros as starting parameters.\n",
            "  warn('Non-invertible starting MA parameters found.'\n",
            "/usr/local/lib/python3.7/dist-packages/statsmodels/tsa/statespace/sarimax.py:997: UserWarning: Non-stationary starting seasonal autoregressive Using zeros as starting parameters.\n",
            "  warn('Non-stationary starting seasonal autoregressive'\n"
          ]
        }
      ]
    },
    {
      "cell_type": "code",
      "source": [
        "results.summary()"
      ],
      "metadata": {
        "colab": {
          "base_uri": "https://localhost:8080/",
          "height": 494
        },
        "id": "0L_0Z91M2XBK",
        "outputId": "f9da7e92-f3c4-4e81-b9de-39ad6514de78"
      },
      "execution_count": 25,
      "outputs": [
        {
          "output_type": "execute_result",
          "data": {
            "text/html": [
              "<table class=\"simpletable\">\n",
              "<caption>SARIMAX Results</caption>\n",
              "<tr>\n",
              "  <th>Dep. Variable:</th>               <td>Employees</td>            <th>  No. Observations:  </th>    <td>336</td>   \n",
              "</tr>\n",
              "<tr>\n",
              "  <th>Model:</th>           <td>SARIMAX(1, 1, 2)x(1, 0, [1], 12)</td> <th>  Log Likelihood     </th> <td>-1058.058</td>\n",
              "</tr>\n",
              "<tr>\n",
              "  <th>Date:</th>                    <td>Mon, 13 Dec 2021</td>         <th>  AIC                </th> <td>2128.116</td> \n",
              "</tr>\n",
              "<tr>\n",
              "  <th>Time:</th>                        <td>12:51:53</td>             <th>  BIC                </th> <td>2151.001</td> \n",
              "</tr>\n",
              "<tr>\n",
              "  <th>Sample:</th>                     <td>01-01-1990</td>            <th>  HQIC               </th> <td>2137.240</td> \n",
              "</tr>\n",
              "<tr>\n",
              "  <th></th>                           <td>- 12-01-2017</td>           <th>                     </th>     <td> </td>    \n",
              "</tr>\n",
              "<tr>\n",
              "  <th>Covariance Type:</th>                <td>opg</td>               <th>                     </th>     <td> </td>    \n",
              "</tr>\n",
              "</table>\n",
              "<table class=\"simpletable\">\n",
              "<tr>\n",
              "      <td></td>        <th>coef</th>     <th>std err</th>      <th>z</th>      <th>P>|z|</th>  <th>[0.025</th>    <th>0.975]</th>  \n",
              "</tr>\n",
              "<tr>\n",
              "  <th>ar.L1</th>    <td>    0.9241</td> <td>    0.043</td> <td>   21.264</td> <td> 0.000</td> <td>    0.839</td> <td>    1.009</td>\n",
              "</tr>\n",
              "<tr>\n",
              "  <th>ma.L1</th>    <td>   -0.9585</td> <td>    0.070</td> <td>  -13.602</td> <td> 0.000</td> <td>   -1.097</td> <td>   -0.820</td>\n",
              "</tr>\n",
              "<tr>\n",
              "  <th>ma.L2</th>    <td>    0.1498</td> <td>    0.061</td> <td>    2.462</td> <td> 0.014</td> <td>    0.031</td> <td>    0.269</td>\n",
              "</tr>\n",
              "<tr>\n",
              "  <th>ar.S.L12</th> <td>    0.9973</td> <td>    0.001</td> <td>  729.934</td> <td> 0.000</td> <td>    0.995</td> <td>    1.000</td>\n",
              "</tr>\n",
              "<tr>\n",
              "  <th>ma.S.L12</th> <td>   -0.7519</td> <td>    0.044</td> <td>  -17.157</td> <td> 0.000</td> <td>   -0.838</td> <td>   -0.666</td>\n",
              "</tr>\n",
              "<tr>\n",
              "  <th>sigma2</th>   <td>   28.7621</td> <td>    1.684</td> <td>   17.079</td> <td> 0.000</td> <td>   25.461</td> <td>   32.063</td>\n",
              "</tr>\n",
              "</table>\n",
              "<table class=\"simpletable\">\n",
              "<tr>\n",
              "  <th>Ljung-Box (L1) (Q):</th>     <td>0.00</td> <th>  Jarque-Bera (JB):  </th> <td>73.33</td>\n",
              "</tr>\n",
              "<tr>\n",
              "  <th>Prob(Q):</th>                <td>0.98</td> <th>  Prob(JB):          </th> <td>0.00</td> \n",
              "</tr>\n",
              "<tr>\n",
              "  <th>Heteroskedasticity (H):</th> <td>0.91</td> <th>  Skew:              </th> <td>-0.17</td>\n",
              "</tr>\n",
              "<tr>\n",
              "  <th>Prob(H) (two-sided):</th>    <td>0.63</td> <th>  Kurtosis:          </th> <td>5.27</td> \n",
              "</tr>\n",
              "</table><br/><br/>Warnings:<br/>[1] Covariance matrix calculated using the outer product of gradients (complex-step)."
            ],
            "text/plain": [
              "<class 'statsmodels.iolib.summary.Summary'>\n",
              "\"\"\"\n",
              "                                      SARIMAX Results                                       \n",
              "============================================================================================\n",
              "Dep. Variable:                            Employees   No. Observations:                  336\n",
              "Model:             SARIMAX(1, 1, 2)x(1, 0, [1], 12)   Log Likelihood               -1058.058\n",
              "Date:                              Mon, 13 Dec 2021   AIC                           2128.116\n",
              "Time:                                      12:51:53   BIC                           2151.001\n",
              "Sample:                                  01-01-1990   HQIC                          2137.240\n",
              "                                       - 12-01-2017                                         \n",
              "Covariance Type:                                opg                                         \n",
              "==============================================================================\n",
              "                 coef    std err          z      P>|z|      [0.025      0.975]\n",
              "------------------------------------------------------------------------------\n",
              "ar.L1          0.9241      0.043     21.264      0.000       0.839       1.009\n",
              "ma.L1         -0.9585      0.070    -13.602      0.000      -1.097      -0.820\n",
              "ma.L2          0.1498      0.061      2.462      0.014       0.031       0.269\n",
              "ar.S.L12       0.9973      0.001    729.934      0.000       0.995       1.000\n",
              "ma.S.L12      -0.7519      0.044    -17.157      0.000      -0.838      -0.666\n",
              "sigma2        28.7621      1.684     17.079      0.000      25.461      32.063\n",
              "===================================================================================\n",
              "Ljung-Box (L1) (Q):                   0.00   Jarque-Bera (JB):                73.33\n",
              "Prob(Q):                              0.98   Prob(JB):                         0.00\n",
              "Heteroskedasticity (H):               0.91   Skew:                            -0.17\n",
              "Prob(H) (two-sided):                  0.63   Kurtosis:                         5.27\n",
              "===================================================================================\n",
              "\n",
              "Warnings:\n",
              "[1] Covariance matrix calculated using the outer product of gradients (complex-step).\n",
              "\"\"\""
            ]
          },
          "metadata": {},
          "execution_count": 25
        }
      ]
    },
    {
      "cell_type": "code",
      "source": [
        "model = SARIMAX(train['Employees'],order=(0, 1, 0),seasonal_order=(2, 0, 0, 12)) \n",
        "results = model.fit()\n",
        "results.summary()"
      ],
      "metadata": {
        "colab": {
          "base_uri": "https://localhost:8080/",
          "height": 430
        },
        "id": "b0uF2j5x2bZK",
        "outputId": "d86dc804-5afd-4dae-83a7-e7bff697ea0d"
      },
      "execution_count": 26,
      "outputs": [
        {
          "output_type": "execute_result",
          "data": {
            "text/html": [
              "<table class=\"simpletable\">\n",
              "<caption>SARIMAX Results</caption>\n",
              "<tr>\n",
              "  <th>Dep. Variable:</th>              <td>Employees</td>           <th>  No. Observations:  </th>    <td>336</td>   \n",
              "</tr>\n",
              "<tr>\n",
              "  <th>Model:</th>           <td>SARIMAX(0, 1, 0)x(2, 0, 0, 12)</td> <th>  Log Likelihood     </th> <td>-1095.407</td>\n",
              "</tr>\n",
              "<tr>\n",
              "  <th>Date:</th>                   <td>Mon, 13 Dec 2021</td>        <th>  AIC                </th> <td>2196.814</td> \n",
              "</tr>\n",
              "<tr>\n",
              "  <th>Time:</th>                       <td>12:52:15</td>            <th>  BIC                </th> <td>2208.256</td> \n",
              "</tr>\n",
              "<tr>\n",
              "  <th>Sample:</th>                    <td>01-01-1990</td>           <th>  HQIC               </th> <td>2201.375</td> \n",
              "</tr>\n",
              "<tr>\n",
              "  <th></th>                          <td>- 12-01-2017</td>          <th>                     </th>     <td> </td>    \n",
              "</tr>\n",
              "<tr>\n",
              "  <th>Covariance Type:</th>               <td>opg</td>              <th>                     </th>     <td> </td>    \n",
              "</tr>\n",
              "</table>\n",
              "<table class=\"simpletable\">\n",
              "<tr>\n",
              "      <td></td>        <th>coef</th>     <th>std err</th>      <th>z</th>      <th>P>|z|</th>  <th>[0.025</th>    <th>0.975]</th>  \n",
              "</tr>\n",
              "<tr>\n",
              "  <th>ar.S.L12</th> <td>    0.5204</td> <td>    0.040</td> <td>   13.051</td> <td> 0.000</td> <td>    0.442</td> <td>    0.599</td>\n",
              "</tr>\n",
              "<tr>\n",
              "  <th>ar.S.L24</th> <td>    0.4385</td> <td>    0.041</td> <td>   10.593</td> <td> 0.000</td> <td>    0.357</td> <td>    0.520</td>\n",
              "</tr>\n",
              "<tr>\n",
              "  <th>sigma2</th>   <td>   37.1907</td> <td>    2.165</td> <td>   17.175</td> <td> 0.000</td> <td>   32.947</td> <td>   41.435</td>\n",
              "</tr>\n",
              "</table>\n",
              "<table class=\"simpletable\">\n",
              "<tr>\n",
              "  <th>Ljung-Box (L1) (Q):</th>     <td>0.02</td> <th>  Jarque-Bera (JB):  </th> <td>56.66</td>\n",
              "</tr>\n",
              "<tr>\n",
              "  <th>Prob(Q):</th>                <td>0.89</td> <th>  Prob(JB):          </th> <td>0.00</td> \n",
              "</tr>\n",
              "<tr>\n",
              "  <th>Heteroskedasticity (H):</th> <td>1.06</td> <th>  Skew:              </th> <td>-0.35</td>\n",
              "</tr>\n",
              "<tr>\n",
              "  <th>Prob(H) (two-sided):</th>    <td>0.74</td> <th>  Kurtosis:          </th> <td>4.89</td> \n",
              "</tr>\n",
              "</table><br/><br/>Warnings:<br/>[1] Covariance matrix calculated using the outer product of gradients (complex-step)."
            ],
            "text/plain": [
              "<class 'statsmodels.iolib.summary.Summary'>\n",
              "\"\"\"\n",
              "                                     SARIMAX Results                                      \n",
              "==========================================================================================\n",
              "Dep. Variable:                          Employees   No. Observations:                  336\n",
              "Model:             SARIMAX(0, 1, 0)x(2, 0, 0, 12)   Log Likelihood               -1095.407\n",
              "Date:                            Mon, 13 Dec 2021   AIC                           2196.814\n",
              "Time:                                    12:52:15   BIC                           2208.256\n",
              "Sample:                                01-01-1990   HQIC                          2201.375\n",
              "                                     - 12-01-2017                                         \n",
              "Covariance Type:                              opg                                         \n",
              "==============================================================================\n",
              "                 coef    std err          z      P>|z|      [0.025      0.975]\n",
              "------------------------------------------------------------------------------\n",
              "ar.S.L12       0.5204      0.040     13.051      0.000       0.442       0.599\n",
              "ar.S.L24       0.4385      0.041     10.593      0.000       0.357       0.520\n",
              "sigma2        37.1907      2.165     17.175      0.000      32.947      41.435\n",
              "===================================================================================\n",
              "Ljung-Box (L1) (Q):                   0.02   Jarque-Bera (JB):                56.66\n",
              "Prob(Q):                              0.89   Prob(JB):                         0.00\n",
              "Heteroskedasticity (H):               1.06   Skew:                            -0.35\n",
              "Prob(H) (two-sided):                  0.74   Kurtosis:                         4.89\n",
              "===================================================================================\n",
              "\n",
              "Warnings:\n",
              "[1] Covariance matrix calculated using the outer product of gradients (complex-step).\n",
              "\"\"\""
            ]
          },
          "metadata": {},
          "execution_count": 26
        }
      ]
    },
    {
      "cell_type": "code",
      "source": [
        "start=len(train) \n",
        "end=len(train)+len(test)-1"
      ],
      "metadata": {
        "id": "dXIefOa22h4J"
      },
      "execution_count": 27,
      "outputs": []
    },
    {
      "cell_type": "code",
      "source": [
        "predictions = results.predict(start=start, end=end, dynamic=False, typ='levels').rename(' Predictions SARIMAX(0, 1, 0)x(2, 0, 0, 12)')"
      ],
      "metadata": {
        "id": "4Z-tKZ-Q2jcN"
      },
      "execution_count": 28,
      "outputs": []
    },
    {
      "cell_type": "code",
      "source": [
        "test['Employees'].plot(legend=True)\n",
        "predictions.plot(legend=True)"
      ],
      "metadata": {
        "colab": {
          "base_uri": "https://localhost:8080/",
          "height": 313
        },
        "id": "JVe53Sbb2mdx",
        "outputId": "9a0ebf27-4695-4a8b-aee5-6ae5d29380f0"
      },
      "execution_count": 29,
      "outputs": [
        {
          "output_type": "execute_result",
          "data": {
            "text/plain": [
              "<matplotlib.axes._subplots.AxesSubplot at 0x7f89e72c8690>"
            ]
          },
          "metadata": {},
          "execution_count": 29
        },
        {
          "output_type": "display_data",
          "data": {
            "image/png": "[encoded data removed]",
            "text/plain": [
              "<Figure size 432x288 with 1 Axes>"
            ]
          },
          "metadata": {
            "needs_background": "light"
          }
        }
      ]
    },
    {
      "cell_type": "code",
      "source": [
        "title = 'California Hospitality Industry Employees' \n",
        "ylabel = 'Thousands of Persons' \n",
        "xlabel = ''"
      ],
      "metadata": {
        "id": "r7lu8s7j2pmV"
      },
      "execution_count": 30,
      "outputs": []
    },
    {
      "cell_type": "code",
      "source": [
        "ax = test['Employees'].plot(legend=True, figsize=(12,6),title=title) \n",
        "ax.autoscale(axis='x',tight=True)\n",
        "ax.set(xlabel=xlabel, ylabel=ylabel)"
      ],
      "metadata": {
        "colab": {
          "base_uri": "https://localhost:8080/",
          "height": 419
        },
        "id": "WBRIwCdw2tX0",
        "outputId": "b8e7666e-0b8d-4e07-b832-0717af5b7c9c"
      },
      "execution_count": 31,
      "outputs": [
        {
          "output_type": "execute_result",
          "data": {
            "text/plain": [
              "[Text(0, 0.5, 'Thousands of Persons'), Text(0.5, 0, '')]"
            ]
          },
          "metadata": {},
          "execution_count": 31
        },
        {
          "output_type": "display_data",
          "data": {
            "image/png": "[encoded data removed]",
            "text/plain": [
              "<Figure size 864x432 with 1 Axes>"
            ]
          },
          "metadata": {
            "needs_background": "light"
          }
        }
      ]
    },
    {
      "cell_type": "code",
      "source": [
        "from sklearn.metrics import mean_squared_error\n",
        "from statsmodels.tools.eval_measures import rmse"
      ],
      "metadata": {
        "id": "YyEfByBA2xdn"
      },
      "execution_count": 32,
      "outputs": []
    },
    {
      "cell_type": "code",
      "source": [
        "mse_error = mean_squared_error(test['Employees'], predictions)\n",
        "rmse_error = rmse(test['Employees'], predictions)"
      ],
      "metadata": {
        "id": "E9qViKKp21Eo"
      },
      "execution_count": 33,
      "outputs": []
    },
    {
      "cell_type": "code",
      "source": [
        "print(f'SARIMA(0,1,0)(2,0,0,12) MSE Error: {mse_error:11.10}')\n",
        "print(f'SARIMA(0,1,0)(2,0,0,12) RMSE Error: {rmse_error:11.10}')"
      ],
      "metadata": {
        "colab": {
          "base_uri": "https://localhost:8080/"
        },
        "id": "GvM31u-h23Yi",
        "outputId": "e934817f-d5f5-4a77-b0f1-dd300df66f3b"
      },
      "execution_count": 34,
      "outputs": [
        {
          "output_type": "stream",
          "name": "stdout",
          "text": [
            "SARIMA(0,1,0)(2,0,0,12) MSE Error: 182.8506597\n",
            "SARIMA(0,1,0)(2,0,0,12) RMSE Error: 13.52222836\n"
          ]
        }
      ]
    },
    {
      "cell_type": "code",
      "source": [
        "print(f'SARIMA(0,1,0)(2,0,0,12) MSE Error: {mse_error:11.10}') \n",
        "print(f'SARIMA(0,1,0)(2,0,0,12) RMSE Error: {rmse_error:11.10}') "
      ],
      "metadata": {
        "colab": {
          "base_uri": "https://localhost:8080/"
        },
        "id": "u8oaOEp92-TL",
        "outputId": "5074b86c-8152-49cd-e1e0-05df7ba39222"
      },
      "execution_count": 35,
      "outputs": [
        {
          "output_type": "stream",
          "name": "stdout",
          "text": [
            "SARIMA(0,1,0)(2,0,0,12) MSE Error: 182.8506597\n",
            "SARIMA(0,1,0)(2,0,0,12) RMSE Error: 13.52222836\n"
          ]
        }
      ]
    },
    {
      "cell_type": "code",
      "source": [
        "model = SARIMAX(df['Employees'],order=(1, 1, 2),seasonal_order=(1, 0, 1, 12))\n",
        "results = model.fit()\n",
        "results.summary()"
      ],
      "metadata": {
        "colab": {
          "base_uri": "https://localhost:8080/",
          "height": 618
        },
        "id": "IKrYSqzV2_bI",
        "outputId": "e11af716-76f4-4a07-b272-84a5445f560e"
      },
      "execution_count": 36,
      "outputs": [
        {
          "output_type": "stream",
          "name": "stderr",
          "text": [
            "/usr/local/lib/python3.7/dist-packages/statsmodels/tsa/statespace/sarimax.py:966: UserWarning: Non-stationary starting autoregressive parameters found. Using zeros as starting parameters.\n",
            "  warn('Non-stationary starting autoregressive parameters'\n",
            "/usr/local/lib/python3.7/dist-packages/statsmodels/tsa/statespace/sarimax.py:978: UserWarning: Non-invertible starting MA parameters found. Using zeros as starting parameters.\n",
            "  warn('Non-invertible starting MA parameters found.'\n",
            "/usr/local/lib/python3.7/dist-packages/statsmodels/tsa/statespace/sarimax.py:997: UserWarning: Non-stationary starting seasonal autoregressive Using zeros as starting parameters.\n",
            "  warn('Non-stationary starting seasonal autoregressive'\n"
          ]
        },
        {
          "output_type": "execute_result",
          "data": {
            "text/html": [
              "<table class=\"simpletable\">\n",
              "<caption>SARIMAX Results</caption>\n",
              "<tr>\n",
              "  <th>Dep. Variable:</th>               <td>Employees</td>            <th>  No. Observations:  </th>    <td>348</td>   \n",
              "</tr>\n",
              "<tr>\n",
              "  <th>Model:</th>           <td>SARIMAX(1, 1, 2)x(1, 0, [1], 12)</td> <th>  Log Likelihood     </th> <td>-1098.252</td>\n",
              "</tr>\n",
              "<tr>\n",
              "  <th>Date:</th>                    <td>Mon, 13 Dec 2021</td>         <th>  AIC                </th> <td>2208.504</td> \n",
              "</tr>\n",
              "<tr>\n",
              "  <th>Time:</th>                        <td>12:54:54</td>             <th>  BIC                </th> <td>2231.600</td> \n",
              "</tr>\n",
              "<tr>\n",
              "  <th>Sample:</th>                     <td>01-01-1990</td>            <th>  HQIC               </th> <td>2217.700</td> \n",
              "</tr>\n",
              "<tr>\n",
              "  <th></th>                           <td>- 12-01-2018</td>           <th>                     </th>     <td> </td>    \n",
              "</tr>\n",
              "<tr>\n",
              "  <th>Covariance Type:</th>                <td>opg</td>               <th>                     </th>     <td> </td>    \n",
              "</tr>\n",
              "</table>\n",
              "<table class=\"simpletable\">\n",
              "<tr>\n",
              "      <td></td>        <th>coef</th>     <th>std err</th>      <th>z</th>      <th>P>|z|</th>  <th>[0.025</th>    <th>0.975]</th>  \n",
              "</tr>\n",
              "<tr>\n",
              "  <th>ar.L1</th>    <td>    0.9244</td> <td>    0.045</td> <td>   20.569</td> <td> 0.000</td> <td>    0.836</td> <td>    1.013</td>\n",
              "</tr>\n",
              "<tr>\n",
              "  <th>ma.L1</th>    <td>   -0.9440</td> <td>    0.070</td> <td>  -13.471</td> <td> 0.000</td> <td>   -1.081</td> <td>   -0.807</td>\n",
              "</tr>\n",
              "<tr>\n",
              "  <th>ma.L2</th>    <td>    0.1288</td> <td>    0.060</td> <td>    2.140</td> <td> 0.032</td> <td>    0.011</td> <td>    0.247</td>\n",
              "</tr>\n",
              "<tr>\n",
              "  <th>ar.S.L12</th> <td>    0.9972</td> <td>    0.001</td> <td>  703.740</td> <td> 0.000</td> <td>    0.994</td> <td>    1.000</td>\n",
              "</tr>\n",
              "<tr>\n",
              "  <th>ma.S.L12</th> <td>   -0.7490</td> <td>    0.043</td> <td>  -17.321</td> <td> 0.000</td> <td>   -0.834</td> <td>   -0.664</td>\n",
              "</tr>\n",
              "<tr>\n",
              "  <th>sigma2</th>   <td>   29.2997</td> <td>    1.717</td> <td>   17.062</td> <td> 0.000</td> <td>   25.934</td> <td>   32.665</td>\n",
              "</tr>\n",
              "</table>\n",
              "<table class=\"simpletable\">\n",
              "<tr>\n",
              "  <th>Ljung-Box (L1) (Q):</th>     <td>0.00</td> <th>  Jarque-Bera (JB):  </th> <td>67.43</td>\n",
              "</tr>\n",
              "<tr>\n",
              "  <th>Prob(Q):</th>                <td>0.99</td> <th>  Prob(JB):          </th> <td>0.00</td> \n",
              "</tr>\n",
              "<tr>\n",
              "  <th>Heteroskedasticity (H):</th> <td>0.86</td> <th>  Skew:              </th> <td>-0.11</td>\n",
              "</tr>\n",
              "<tr>\n",
              "  <th>Prob(H) (two-sided):</th>    <td>0.40</td> <th>  Kurtosis:          </th> <td>5.15</td> \n",
              "</tr>\n",
              "</table><br/><br/>Warnings:<br/>[1] Covariance matrix calculated using the outer product of gradients (complex-step)."
            ],
            "text/plain": [
              "<class 'statsmodels.iolib.summary.Summary'>\n",
              "\"\"\"\n",
              "                                      SARIMAX Results                                       \n",
              "============================================================================================\n",
              "Dep. Variable:                            Employees   No. Observations:                  348\n",
              "Model:             SARIMAX(1, 1, 2)x(1, 0, [1], 12)   Log Likelihood               -1098.252\n",
              "Date:                              Mon, 13 Dec 2021   AIC                           2208.504\n",
              "Time:                                      12:54:54   BIC                           2231.600\n",
              "Sample:                                  01-01-1990   HQIC                          2217.700\n",
              "                                       - 12-01-2018                                         \n",
              "Covariance Type:                                opg                                         \n",
              "==============================================================================\n",
              "                 coef    std err          z      P>|z|      [0.025      0.975]\n",
              "------------------------------------------------------------------------------\n",
              "ar.L1          0.9244      0.045     20.569      0.000       0.836       1.013\n",
              "ma.L1         -0.9440      0.070    -13.471      0.000      -1.081      -0.807\n",
              "ma.L2          0.1288      0.060      2.140      0.032       0.011       0.247\n",
              "ar.S.L12       0.9972      0.001    703.740      0.000       0.994       1.000\n",
              "ma.S.L12      -0.7490      0.043    -17.321      0.000      -0.834      -0.664\n",
              "sigma2        29.2997      1.717     17.062      0.000      25.934      32.665\n",
              "===================================================================================\n",
              "Ljung-Box (L1) (Q):                   0.00   Jarque-Bera (JB):                67.43\n",
              "Prob(Q):                              0.99   Prob(JB):                         0.00\n",
              "Heteroskedasticity (H):               0.86   Skew:                            -0.11\n",
              "Prob(H) (two-sided):                  0.40   Kurtosis:                         5.15\n",
              "===================================================================================\n",
              "\n",
              "Warnings:\n",
              "[1] Covariance matrix calculated using the outer product of gradients (complex-step).\n",
              "\"\"\""
            ]
          },
          "metadata": {},
          "execution_count": 36
        }
      ]
    },
    {
      "cell_type": "code",
      "source": [
        "fcast = results.predict(len(df)-1,len(df)+11,typ='levels').rename('SARIMAX(1, 1, 2)x(1, 0, [1], 12) Forecast')"
      ],
      "metadata": {
        "id": "JjxBRmm83G1l"
      },
      "execution_count": 37,
      "outputs": []
    },
    {
      "cell_type": "code",
      "source": [
        "fcast.plot()"
      ],
      "metadata": {
        "colab": {
          "base_uri": "https://localhost:8080/",
          "height": 295
        },
        "id": "gu6EECQL3JLp",
        "outputId": "6b1093d6-a1f5-490b-81f8-6368f94a025b"
      },
      "execution_count": 38,
      "outputs": [
        {
          "output_type": "execute_result",
          "data": {
            "text/plain": [
              "<matplotlib.axes._subplots.AxesSubplot at 0x7f89f2336f10>"
            ]
          },
          "metadata": {},
          "execution_count": 38
        },
        {
          "output_type": "display_data",
          "data": {
            "image/png": "[encoded data removed]",
            "text/plain": [
              "<Figure size 432x288 with 1 Axes>"
            ]
          },
          "metadata": {
            "needs_background": "light"
          }
        }
      ]
    },
    {
      "cell_type": "code",
      "source": [
        "title = 'California Hospitality Industry Employees' \n",
        "ylabel = 'Thousands of Persons' \n",
        "xlabel = ''"
      ],
      "metadata": {
        "id": "aEFs21AK3KbF"
      },
      "execution_count": 39,
      "outputs": []
    },
    {
      "cell_type": "code",
      "source": [
        "ax = df['Employees'].plot(legend=True, figsize=(12,6),title=title) \n",
        "fcast.plot(legend=True)\n",
        "ax.autoscale(axis='x',tight=True)\n",
        "ax.set(xlabel=xlabel, ylabel=ylabel)"
      ],
      "metadata": {
        "colab": {
          "base_uri": "https://localhost:8080/",
          "height": 407
        },
        "id": "0nZ0neYZ3PZ7",
        "outputId": "9230d2fb-1eb1-414c-dd59-80bcb0237413"
      },
      "execution_count": 40,
      "outputs": [
        {
          "output_type": "execute_result",
          "data": {
            "text/plain": [
              "[Text(0, 0.5, 'Thousands of Persons'), Text(0.5, 0, '')]"
            ]
          },
          "metadata": {},
          "execution_count": 40
        },
        {
          "output_type": "display_data",
          "data": {
            "image/png": "[encoded data removed]",
            "text/plain": [
              "<Figure size 864x432 with 1 Axes>"
            ]
          },
          "metadata": {
            "needs_background": "light"
          }
        }
      ]
    },
    {
      "cell_type": "code",
      "source": [
        "!pip install Prophet"
      ],
      "metadata": {
        "colab": {
          "base_uri": "https://localhost:8080/"
        },
        "id": "DfeS3yig3Q2s",
        "outputId": "9106c6f6-ac71-42fd-e901-b137a1c9782c"
      },
      "execution_count": 42,
      "outputs": [
        {
          "output_type": "stream",
          "name": "stdout",
          "text": [
            "Collecting Prophet\n",
            "  Downloading prophet-1.0.1.tar.gz (65 kB)\n",
            "\u001b[K     |████████████████████████████████| 65 kB 2.4 MB/s \n",
            "\u001b[?25hRequirement already satisfied: Cython>=0.22 in /usr/local/lib/python3.7/dist-packages (from Prophet) (0.29.24)\n",
            "Collecting cmdstanpy==0.9.68\n",
            "  Downloading cmdstanpy-0.9.68-py3-none-any.whl (49 kB)\n",
            "\u001b[K     |████████████████████████████████| 49 kB 4.4 MB/s \n",
            "\u001b[?25hRequirement already satisfied: pystan~=2.19.1.1 in /usr/local/lib/python3.7/dist-packages (from Prophet) (2.19.1.1)\n",
            "Requirement already satisfied: numpy>=1.15.4 in /usr/local/lib/python3.7/dist-packages (from Prophet) (1.19.5)\n",
            "Requirement already satisfied: pandas>=1.0.4 in /usr/local/lib/python3.7/dist-packages (from Prophet) (1.1.5)\n",
            "Requirement already satisfied: matplotlib>=2.0.0 in /usr/local/lib/python3.7/dist-packages (from Prophet) (3.2.2)\n",
            "Requirement already satisfied: LunarCalendar>=0.0.9 in /usr/local/lib/python3.7/dist-packages (from Prophet) (0.0.9)\n",
            "Requirement already satisfied: convertdate>=2.1.2 in /usr/local/lib/python3.7/dist-packages (from Prophet) (2.3.2)\n",
            "Requirement already satisfied: holidays>=0.10.2 in /usr/local/lib/python3.7/dist-packages (from Prophet) (0.10.5.2)\n",
            "Requirement already satisfied: setuptools-git>=1.2 in /usr/local/lib/python3.7/dist-packages (from Prophet) (1.2)\n",
            "Requirement already satisfied: python-dateutil>=2.8.0 in /usr/local/lib/python3.7/dist-packages (from Prophet) (2.8.2)\n",
            "Requirement already satisfied: tqdm>=4.36.1 in /usr/local/lib/python3.7/dist-packages (from Prophet) (4.62.3)\n",
            "Collecting ujson\n",
            "  Downloading ujson-4.3.0-cp37-cp37m-manylinux_2_17_x86_64.manylinux2014_x86_64.whl (216 kB)\n",
            "\u001b[K     |████████████████████████████████| 216 kB 11.4 MB/s \n",
            "\u001b[?25hRequirement already satisfied: pytz>=2014.10 in /usr/local/lib/python3.7/dist-packages (from convertdate>=2.1.2->Prophet) (2018.9)\n",
            "Requirement already satisfied: pymeeus<=1,>=0.3.13 in /usr/local/lib/python3.7/dist-packages (from convertdate>=2.1.2->Prophet) (0.5.11)\n",
            "Requirement already satisfied: six in /usr/local/lib/python3.7/dist-packages (from holidays>=0.10.2->Prophet) (1.15.0)\n",
            "Requirement already satisfied: hijri-converter in /usr/local/lib/python3.7/dist-packages (from holidays>=0.10.2->Prophet) (2.2.2)\n",
            "Requirement already satisfied: korean-lunar-calendar in /usr/local/lib/python3.7/dist-packages (from holidays>=0.10.2->Prophet) (0.2.1)\n",
            "Requirement already satisfied: ephem>=3.7.5.3 in /usr/local/lib/python3.7/dist-packages (from LunarCalendar>=0.0.9->Prophet) (4.1)\n",
            "Requirement already satisfied: kiwisolver>=1.0.1 in /usr/local/lib/python3.7/dist-packages (from matplotlib>=2.0.0->Prophet) (1.3.2)\n",
            "Requirement already satisfied: pyparsing!=2.0.4,!=2.1.2,!=2.1.6,>=2.0.1 in /usr/local/lib/python3.7/dist-packages (from matplotlib>=2.0.0->Prophet) (3.0.6)\n",
            "Requirement already satisfied: cycler>=0.10 in /usr/local/lib/python3.7/dist-packages (from matplotlib>=2.0.0->Prophet) (0.11.0)\n",
            "Building wheels for collected packages: Prophet\n",
            "  Building wheel for Prophet (setup.py) ... \u001b[?25l\u001b[?25hdone\n",
            "  Created wheel for Prophet: filename=prophet-1.0.1-py3-none-any.whl size=6641588 sha256=525966e163fa5c2644751cb5a10ccd654504767df0d9f1273122fc01a173a128\n",
            "  Stored in directory: /root/.cache/pip/wheels/4e/a0/1a/02c9ec9e3e9de6bdbb3d769d11992a6926889d71567d6b9b67\n",
            "Successfully built Prophet\n",
            "Installing collected packages: ujson, cmdstanpy, Prophet\n",
            "  Attempting uninstall: cmdstanpy\n",
            "    Found existing installation: cmdstanpy 0.9.5\n",
            "    Uninstalling cmdstanpy-0.9.5:\n",
            "      Successfully uninstalled cmdstanpy-0.9.5\n",
            "\u001b[31mERROR: pip's dependency resolver does not currently take into account all the packages that are installed. This behaviour is the source of the following dependency conflicts.\n",
            "fbprophet 0.7.1 requires cmdstanpy==0.9.5, but you have cmdstanpy 0.9.68 which is incompatible.\u001b[0m\n",
            "Successfully installed Prophet-1.0.1 cmdstanpy-0.9.68 ujson-4.3.0\n"
          ]
        }
      ]
    },
    {
      "cell_type": "code",
      "source": [
        "df.head()"
      ],
      "metadata": {
        "colab": {
          "base_uri": "https://localhost:8080/",
          "height": 237
        },
        "id": "IGrF8Q9M3utW",
        "outputId": "4ed3d883-652b-42ca-ecae-c7f3ecf3c5b4"
      },
      "execution_count": 43,
      "outputs": [
        {
          "output_type": "execute_result",
          "data": {
            "text/html": [
              "<div>\n",
              "<style scoped>\n",
              "    .dataframe tbody tr th:only-of-type {\n",
              "        vertical-align: middle;\n",
              "    }\n",
              "\n",
              "    .dataframe tbody tr th {\n",
              "        vertical-align: top;\n",
              "    }\n",
              "\n",
              "    .dataframe thead th {\n",
              "        text-align: right;\n",
              "    }\n",
              "</style>\n",
              "<table border=\"1\" class=\"dataframe\">\n",
              "  <thead>\n",
              "    <tr style=\"text-align: right;\">\n",
              "      <th></th>\n",
              "      <th>Employees</th>\n",
              "    </tr>\n",
              "    <tr>\n",
              "      <th>Date</th>\n",
              "      <th></th>\n",
              "    </tr>\n",
              "  </thead>\n",
              "  <tbody>\n",
              "    <tr>\n",
              "      <th>1990-01-01</th>\n",
              "      <td>1064.5</td>\n",
              "    </tr>\n",
              "    <tr>\n",
              "      <th>1990-02-01</th>\n",
              "      <td>1074.5</td>\n",
              "    </tr>\n",
              "    <tr>\n",
              "      <th>1990-03-01</th>\n",
              "      <td>1090.0</td>\n",
              "    </tr>\n",
              "    <tr>\n",
              "      <th>1990-04-01</th>\n",
              "      <td>1097.4</td>\n",
              "    </tr>\n",
              "    <tr>\n",
              "      <th>1990-05-01</th>\n",
              "      <td>1108.7</td>\n",
              "    </tr>\n",
              "  </tbody>\n",
              "</table>\n",
              "</div>"
            ],
            "text/plain": [
              "            Employees\n",
              "Date                 \n",
              "1990-01-01     1064.5\n",
              "1990-02-01     1074.5\n",
              "1990-03-01     1090.0\n",
              "1990-04-01     1097.4\n",
              "1990-05-01     1108.7"
            ]
          },
          "metadata": {},
          "execution_count": 43
        }
      ]
    },
    {
      "cell_type": "code",
      "source": [
        "train = df.iloc[:len(df)-12]\n",
        "test = df.iloc[len(df)-12:]"
      ],
      "metadata": {
        "id": "Dn4BOQ5W30Yv"
      },
      "execution_count": 44,
      "outputs": []
    },
    {
      "cell_type": "code",
      "source": [
        "train.head()"
      ],
      "metadata": {
        "colab": {
          "base_uri": "https://localhost:8080/",
          "height": 237
        },
        "id": "atp-K04F33ms",
        "outputId": "a7754238-21a3-4c55-ba57-3577d4f87779"
      },
      "execution_count": 45,
      "outputs": [
        {
          "output_type": "execute_result",
          "data": {
            "text/html": [
              "<div>\n",
              "<style scoped>\n",
              "    .dataframe tbody tr th:only-of-type {\n",
              "        vertical-align: middle;\n",
              "    }\n",
              "\n",
              "    .dataframe tbody tr th {\n",
              "        vertical-align: top;\n",
              "    }\n",
              "\n",
              "    .dataframe thead th {\n",
              "        text-align: right;\n",
              "    }\n",
              "</style>\n",
              "<table border=\"1\" class=\"dataframe\">\n",
              "  <thead>\n",
              "    <tr style=\"text-align: right;\">\n",
              "      <th></th>\n",
              "      <th>Employees</th>\n",
              "    </tr>\n",
              "    <tr>\n",
              "      <th>Date</th>\n",
              "      <th></th>\n",
              "    </tr>\n",
              "  </thead>\n",
              "  <tbody>\n",
              "    <tr>\n",
              "      <th>1990-01-01</th>\n",
              "      <td>1064.5</td>\n",
              "    </tr>\n",
              "    <tr>\n",
              "      <th>1990-02-01</th>\n",
              "      <td>1074.5</td>\n",
              "    </tr>\n",
              "    <tr>\n",
              "      <th>1990-03-01</th>\n",
              "      <td>1090.0</td>\n",
              "    </tr>\n",
              "    <tr>\n",
              "      <th>1990-04-01</th>\n",
              "      <td>1097.4</td>\n",
              "    </tr>\n",
              "    <tr>\n",
              "      <th>1990-05-01</th>\n",
              "      <td>1108.7</td>\n",
              "    </tr>\n",
              "  </tbody>\n",
              "</table>\n",
              "</div>"
            ],
            "text/plain": [
              "            Employees\n",
              "Date                 \n",
              "1990-01-01     1064.5\n",
              "1990-02-01     1074.5\n",
              "1990-03-01     1090.0\n",
              "1990-04-01     1097.4\n",
              "1990-05-01     1108.7"
            ]
          },
          "metadata": {},
          "execution_count": 45
        }
      ]
    },
    {
      "cell_type": "code",
      "source": [
        "test.head()"
      ],
      "metadata": {
        "colab": {
          "base_uri": "https://localhost:8080/",
          "height": 237
        },
        "id": "mpO2MN2P36Pd",
        "outputId": "02131f24-2c78-4155-f55d-9337d5e64ef2"
      },
      "execution_count": 46,
      "outputs": [
        {
          "output_type": "execute_result",
          "data": {
            "text/html": [
              "<div>\n",
              "<style scoped>\n",
              "    .dataframe tbody tr th:only-of-type {\n",
              "        vertical-align: middle;\n",
              "    }\n",
              "\n",
              "    .dataframe tbody tr th {\n",
              "        vertical-align: top;\n",
              "    }\n",
              "\n",
              "    .dataframe thead th {\n",
              "        text-align: right;\n",
              "    }\n",
              "</style>\n",
              "<table border=\"1\" class=\"dataframe\">\n",
              "  <thead>\n",
              "    <tr style=\"text-align: right;\">\n",
              "      <th></th>\n",
              "      <th>Employees</th>\n",
              "    </tr>\n",
              "    <tr>\n",
              "      <th>Date</th>\n",
              "      <th></th>\n",
              "    </tr>\n",
              "  </thead>\n",
              "  <tbody>\n",
              "    <tr>\n",
              "      <th>2018-01-01</th>\n",
              "      <td>1916.8</td>\n",
              "    </tr>\n",
              "    <tr>\n",
              "      <th>2018-02-01</th>\n",
              "      <td>1944.5</td>\n",
              "    </tr>\n",
              "    <tr>\n",
              "      <th>2018-03-01</th>\n",
              "      <td>1962.2</td>\n",
              "    </tr>\n",
              "    <tr>\n",
              "      <th>2018-04-01</th>\n",
              "      <td>1984.9</td>\n",
              "    </tr>\n",
              "    <tr>\n",
              "      <th>2018-05-01</th>\n",
              "      <td>2001.5</td>\n",
              "    </tr>\n",
              "  </tbody>\n",
              "</table>\n",
              "</div>"
            ],
            "text/plain": [
              "            Employees\n",
              "Date                 \n",
              "2018-01-01     1916.8\n",
              "2018-02-01     1944.5\n",
              "2018-03-01     1962.2\n",
              "2018-04-01     1984.9\n",
              "2018-05-01     2001.5"
            ]
          },
          "metadata": {},
          "execution_count": 46
        }
      ]
    },
    {
      "cell_type": "code",
      "source": [
        "!pip install pystan\n",
        "!pip install fbprophet"
      ],
      "metadata": {
        "colab": {
          "base_uri": "https://localhost:8080/"
        },
        "id": "qglkahlK39O-",
        "outputId": "fb7a3efb-f53c-4c8d-f9e4-f4667999a0df"
      },
      "execution_count": 48,
      "outputs": [
        {
          "output_type": "stream",
          "name": "stdout",
          "text": [
            "Requirement already satisfied: pystan in /usr/local/lib/python3.7/dist-packages (2.19.1.1)\n",
            "Requirement already satisfied: Cython!=0.25.1,>=0.22 in /usr/local/lib/python3.7/dist-packages (from pystan) (0.29.24)\n",
            "Requirement already satisfied: numpy>=1.7 in /usr/local/lib/python3.7/dist-packages (from pystan) (1.19.5)\n",
            "Requirement already satisfied: fbprophet in /usr/local/lib/python3.7/dist-packages (0.7.1)\n",
            "Requirement already satisfied: Cython>=0.22 in /usr/local/lib/python3.7/dist-packages (from fbprophet) (0.29.24)\n",
            "Collecting cmdstanpy==0.9.5\n",
            "  Downloading cmdstanpy-0.9.5-py3-none-any.whl (37 kB)\n",
            "Requirement already satisfied: pystan>=2.14 in /usr/local/lib/python3.7/dist-packages (from fbprophet) (2.19.1.1)\n",
            "Requirement already satisfied: numpy>=1.15.4 in /usr/local/lib/python3.7/dist-packages (from fbprophet) (1.19.5)\n",
            "Requirement already satisfied: pandas>=1.0.4 in /usr/local/lib/python3.7/dist-packages (from fbprophet) (1.1.5)\n",
            "Requirement already satisfied: matplotlib>=2.0.0 in /usr/local/lib/python3.7/dist-packages (from fbprophet) (3.2.2)\n",
            "Requirement already satisfied: LunarCalendar>=0.0.9 in /usr/local/lib/python3.7/dist-packages (from fbprophet) (0.0.9)\n",
            "Requirement already satisfied: convertdate>=2.1.2 in /usr/local/lib/python3.7/dist-packages (from fbprophet) (2.3.2)\n",
            "Requirement already satisfied: holidays>=0.10.2 in /usr/local/lib/python3.7/dist-packages (from fbprophet) (0.10.5.2)\n",
            "Requirement already satisfied: setuptools-git>=1.2 in /usr/local/lib/python3.7/dist-packages (from fbprophet) (1.2)\n",
            "Requirement already satisfied: python-dateutil>=2.8.0 in /usr/local/lib/python3.7/dist-packages (from fbprophet) (2.8.2)\n",
            "Requirement already satisfied: tqdm>=4.36.1 in /usr/local/lib/python3.7/dist-packages (from fbprophet) (4.62.3)\n",
            "Requirement already satisfied: pytz>=2014.10 in /usr/local/lib/python3.7/dist-packages (from convertdate>=2.1.2->fbprophet) (2018.9)\n",
            "Requirement already satisfied: pymeeus<=1,>=0.3.13 in /usr/local/lib/python3.7/dist-packages (from convertdate>=2.1.2->fbprophet) (0.5.11)\n",
            "Requirement already satisfied: six in /usr/local/lib/python3.7/dist-packages (from holidays>=0.10.2->fbprophet) (1.15.0)\n",
            "Requirement already satisfied: korean-lunar-calendar in /usr/local/lib/python3.7/dist-packages (from holidays>=0.10.2->fbprophet) (0.2.1)\n",
            "Requirement already satisfied: hijri-converter in /usr/local/lib/python3.7/dist-packages (from holidays>=0.10.2->fbprophet) (2.2.2)\n",
            "Requirement already satisfied: ephem>=3.7.5.3 in /usr/local/lib/python3.7/dist-packages (from LunarCalendar>=0.0.9->fbprophet) (4.1)\n",
            "Requirement already satisfied: cycler>=0.10 in /usr/local/lib/python3.7/dist-packages (from matplotlib>=2.0.0->fbprophet) (0.11.0)\n",
            "Requirement already satisfied: kiwisolver>=1.0.1 in /usr/local/lib/python3.7/dist-packages (from matplotlib>=2.0.0->fbprophet) (1.3.2)\n",
            "Requirement already satisfied: pyparsing!=2.0.4,!=2.1.2,!=2.1.6,>=2.0.1 in /usr/local/lib/python3.7/dist-packages (from matplotlib>=2.0.0->fbprophet) (3.0.6)\n",
            "Installing collected packages: cmdstanpy\n",
            "  Attempting uninstall: cmdstanpy\n",
            "    Found existing installation: cmdstanpy 0.9.68\n",
            "    Uninstalling cmdstanpy-0.9.68:\n",
            "      Successfully uninstalled cmdstanpy-0.9.68\n",
            "\u001b[31mERROR: pip's dependency resolver does not currently take into account all the packages that are installed. This behaviour is the source of the following dependency conflicts.\n",
            "prophet 1.0.1 requires cmdstanpy==0.9.68, but you have cmdstanpy 0.9.5 which is incompatible.\u001b[0m\n",
            "Successfully installed cmdstanpy-0.9.5\n"
          ]
        }
      ]
    },
    {
      "cell_type": "code",
      "source": [
        "from fbprophet import Prophet"
      ],
      "metadata": {
        "id": "7SCCTNF04E_K"
      },
      "execution_count": 49,
      "outputs": []
    },
    {
      "cell_type": "code",
      "source": [
        "model = Prophet()\n",
        "model"
      ],
      "metadata": {
        "colab": {
          "base_uri": "https://localhost:8080/"
        },
        "id": "keIVK6ib4OP0",
        "outputId": "4ad96d9c-20f4-4dd9-b7fe-4dee5ff919a2"
      },
      "execution_count": 50,
      "outputs": [
        {
          "output_type": "execute_result",
          "data": {
            "text/plain": [
              "<fbprophet.forecaster.Prophet at 0x7f89e5605450>"
            ]
          },
          "metadata": {},
          "execution_count": 50
        }
      ]
    },
    {
      "cell_type": "code",
      "source": [
        "train_0 = train.reset_index() \n",
        "test_0 = test.reset_index()"
      ],
      "metadata": {
        "id": "mrjyTrRb4TLz"
      },
      "execution_count": 51,
      "outputs": []
    },
    {
      "cell_type": "code",
      "source": [
        "train_0.head()"
      ],
      "metadata": {
        "colab": {
          "base_uri": "https://localhost:8080/",
          "height": 206
        },
        "id": "xbqpIv9y4WFX",
        "outputId": "78f229f1-fcd7-4554-a3f9-a9aa42a6170d"
      },
      "execution_count": 52,
      "outputs": [
        {
          "output_type": "execute_result",
          "data": {
            "text/html": [
              "<div>\n",
              "<style scoped>\n",
              "    .dataframe tbody tr th:only-of-type {\n",
              "        vertical-align: middle;\n",
              "    }\n",
              "\n",
              "    .dataframe tbody tr th {\n",
              "        vertical-align: top;\n",
              "    }\n",
              "\n",
              "    .dataframe thead th {\n",
              "        text-align: right;\n",
              "    }\n",
              "</style>\n",
              "<table border=\"1\" class=\"dataframe\">\n",
              "  <thead>\n",
              "    <tr style=\"text-align: right;\">\n",
              "      <th></th>\n",
              "      <th>Date</th>\n",
              "      <th>Employees</th>\n",
              "    </tr>\n",
              "  </thead>\n",
              "  <tbody>\n",
              "    <tr>\n",
              "      <th>0</th>\n",
              "      <td>1990-01-01</td>\n",
              "      <td>1064.5</td>\n",
              "    </tr>\n",
              "    <tr>\n",
              "      <th>1</th>\n",
              "      <td>1990-02-01</td>\n",
              "      <td>1074.5</td>\n",
              "    </tr>\n",
              "    <tr>\n",
              "      <th>2</th>\n",
              "      <td>1990-03-01</td>\n",
              "      <td>1090.0</td>\n",
              "    </tr>\n",
              "    <tr>\n",
              "      <th>3</th>\n",
              "      <td>1990-04-01</td>\n",
              "      <td>1097.4</td>\n",
              "    </tr>\n",
              "    <tr>\n",
              "      <th>4</th>\n",
              "      <td>1990-05-01</td>\n",
              "      <td>1108.7</td>\n",
              "    </tr>\n",
              "  </tbody>\n",
              "</table>\n",
              "</div>"
            ],
            "text/plain": [
              "        Date  Employees\n",
              "0 1990-01-01     1064.5\n",
              "1 1990-02-01     1074.5\n",
              "2 1990-03-01     1090.0\n",
              "3 1990-04-01     1097.4\n",
              "4 1990-05-01     1108.7"
            ]
          },
          "metadata": {},
          "execution_count": 52
        }
      ]
    },
    {
      "cell_type": "code",
      "source": [
        "train_0.columns = ['ds', 'y'] \n",
        "test_0.columns = ['ds', 'y']"
      ],
      "metadata": {
        "id": "ul4ISSE54YVg"
      },
      "execution_count": 53,
      "outputs": []
    },
    {
      "cell_type": "code",
      "source": [
        "train_0.head()"
      ],
      "metadata": {
        "colab": {
          "base_uri": "https://localhost:8080/",
          "height": 206
        },
        "id": "T3_tPHrQ4Z2G",
        "outputId": "07922bda-9f8e-42fb-8db1-55bc065c5a3d"
      },
      "execution_count": 54,
      "outputs": [
        {
          "output_type": "execute_result",
          "data": {
            "text/html": [
              "<div>\n",
              "<style scoped>\n",
              "    .dataframe tbody tr th:only-of-type {\n",
              "        vertical-align: middle;\n",
              "    }\n",
              "\n",
              "    .dataframe tbody tr th {\n",
              "        vertical-align: top;\n",
              "    }\n",
              "\n",
              "    .dataframe thead th {\n",
              "        text-align: right;\n",
              "    }\n",
              "</style>\n",
              "<table border=\"1\" class=\"dataframe\">\n",
              "  <thead>\n",
              "    <tr style=\"text-align: right;\">\n",
              "      <th></th>\n",
              "      <th>ds</th>\n",
              "      <th>y</th>\n",
              "    </tr>\n",
              "  </thead>\n",
              "  <tbody>\n",
              "    <tr>\n",
              "      <th>0</th>\n",
              "      <td>1990-01-01</td>\n",
              "      <td>1064.5</td>\n",
              "    </tr>\n",
              "    <tr>\n",
              "      <th>1</th>\n",
              "      <td>1990-02-01</td>\n",
              "      <td>1074.5</td>\n",
              "    </tr>\n",
              "    <tr>\n",
              "      <th>2</th>\n",
              "      <td>1990-03-01</td>\n",
              "      <td>1090.0</td>\n",
              "    </tr>\n",
              "    <tr>\n",
              "      <th>3</th>\n",
              "      <td>1990-04-01</td>\n",
              "      <td>1097.4</td>\n",
              "    </tr>\n",
              "    <tr>\n",
              "      <th>4</th>\n",
              "      <td>1990-05-01</td>\n",
              "      <td>1108.7</td>\n",
              "    </tr>\n",
              "  </tbody>\n",
              "</table>\n",
              "</div>"
            ],
            "text/plain": [
              "          ds       y\n",
              "0 1990-01-01  1064.5\n",
              "1 1990-02-01  1074.5\n",
              "2 1990-03-01  1090.0\n",
              "3 1990-04-01  1097.4\n",
              "4 1990-05-01  1108.7"
            ]
          },
          "metadata": {},
          "execution_count": 54
        }
      ]
    },
    {
      "cell_type": "code",
      "source": [
        "model.fit(train_0)"
      ],
      "metadata": {
        "colab": {
          "base_uri": "https://localhost:8080/"
        },
        "id": "VKTD8MAw4cQI",
        "outputId": "e97f9837-1b89-4bcf-d812-5d07c5e68042"
      },
      "execution_count": 55,
      "outputs": [
        {
          "output_type": "stream",
          "name": "stderr",
          "text": [
            "INFO:numexpr.utils:NumExpr defaulting to 2 threads.\n",
            "INFO:fbprophet:Disabling weekly seasonality. Run prophet with weekly_seasonality=True to override this.\n",
            "INFO:fbprophet:Disabling daily seasonality. Run prophet with daily_seasonality=True to override this.\n"
          ]
        },
        {
          "output_type": "execute_result",
          "data": {
            "text/plain": [
              "<fbprophet.forecaster.Prophet at 0x7f89e5605450>"
            ]
          },
          "metadata": {},
          "execution_count": 55
        }
      ]
    },
    {
      "cell_type": "code",
      "source": [
        "future = model.make_future_dataframe(periods=12, freq='MS') \n",
        "future.tail(12)"
      ],
      "metadata": {
        "colab": {
          "base_uri": "https://localhost:8080/",
          "height": 425
        },
        "id": "x6x2FZ-04hZ0",
        "outputId": "a38b8f89-c38c-4ade-d9b2-5c757bdd67eb"
      },
      "execution_count": 56,
      "outputs": [
        {
          "output_type": "execute_result",
          "data": {
            "text/html": [
              "<div>\n",
              "<style scoped>\n",
              "    .dataframe tbody tr th:only-of-type {\n",
              "        vertical-align: middle;\n",
              "    }\n",
              "\n",
              "    .dataframe tbody tr th {\n",
              "        vertical-align: top;\n",
              "    }\n",
              "\n",
              "    .dataframe thead th {\n",
              "        text-align: right;\n",
              "    }\n",
              "</style>\n",
              "<table border=\"1\" class=\"dataframe\">\n",
              "  <thead>\n",
              "    <tr style=\"text-align: right;\">\n",
              "      <th></th>\n",
              "      <th>ds</th>\n",
              "    </tr>\n",
              "  </thead>\n",
              "  <tbody>\n",
              "    <tr>\n",
              "      <th>336</th>\n",
              "      <td>2018-01-01</td>\n",
              "    </tr>\n",
              "    <tr>\n",
              "      <th>337</th>\n",
              "      <td>2018-02-01</td>\n",
              "    </tr>\n",
              "    <tr>\n",
              "      <th>338</th>\n",
              "      <td>2018-03-01</td>\n",
              "    </tr>\n",
              "    <tr>\n",
              "      <th>339</th>\n",
              "      <td>2018-04-01</td>\n",
              "    </tr>\n",
              "    <tr>\n",
              "      <th>340</th>\n",
              "      <td>2018-05-01</td>\n",
              "    </tr>\n",
              "    <tr>\n",
              "      <th>341</th>\n",
              "      <td>2018-06-01</td>\n",
              "    </tr>\n",
              "    <tr>\n",
              "      <th>342</th>\n",
              "      <td>2018-07-01</td>\n",
              "    </tr>\n",
              "    <tr>\n",
              "      <th>343</th>\n",
              "      <td>2018-08-01</td>\n",
              "    </tr>\n",
              "    <tr>\n",
              "      <th>344</th>\n",
              "      <td>2018-09-01</td>\n",
              "    </tr>\n",
              "    <tr>\n",
              "      <th>345</th>\n",
              "      <td>2018-10-01</td>\n",
              "    </tr>\n",
              "    <tr>\n",
              "      <th>346</th>\n",
              "      <td>2018-11-01</td>\n",
              "    </tr>\n",
              "    <tr>\n",
              "      <th>347</th>\n",
              "      <td>2018-12-01</td>\n",
              "    </tr>\n",
              "  </tbody>\n",
              "</table>\n",
              "</div>"
            ],
            "text/plain": [
              "            ds\n",
              "336 2018-01-01\n",
              "337 2018-02-01\n",
              "338 2018-03-01\n",
              "339 2018-04-01\n",
              "340 2018-05-01\n",
              "341 2018-06-01\n",
              "342 2018-07-01\n",
              "343 2018-08-01\n",
              "344 2018-09-01\n",
              "345 2018-10-01\n",
              "346 2018-11-01\n",
              "347 2018-12-01"
            ]
          },
          "metadata": {},
          "execution_count": 56
        }
      ]
    },
    {
      "cell_type": "code",
      "source": [
        "forecast = model.predict(future)\n",
        "forecast.head"
      ],
      "metadata": {
        "colab": {
          "base_uri": "https://localhost:8080/"
        },
        "id": "-G8G49514k2y",
        "outputId": "5eb29976-3594-41b0-a2a7-a2649d725c3e"
      },
      "execution_count": 57,
      "outputs": [
        {
          "output_type": "execute_result",
          "data": {
            "text/plain": [
              "<bound method NDFrame.head of             ds        trend  ...  multiplicative_terms_upper         yhat\n",
              "0   1990-01-01  1105.140489  ...                         0.0  1058.929072\n",
              "1   1990-02-01  1105.802454  ...                         0.0  1073.898372\n",
              "2   1990-03-01  1106.400357  ...                         0.0  1088.970422\n",
              "3   1990-04-01  1107.062322  ...                         0.0  1104.785359\n",
              "4   1990-05-01  1107.702933  ...                         0.0  1121.736986\n",
              "..         ...          ...  ...                         ...          ...\n",
              "343 2018-08-01  2046.943866  ...                         0.0  2076.369515\n",
              "344 2018-09-01  2053.068394  ...                         0.0  2067.030396\n",
              "345 2018-10-01  2058.995356  ...                         0.0  2054.682992\n",
              "346 2018-11-01  2065.119884  ...                         0.0  2052.813211\n",
              "347 2018-12-01  2071.046846  ...                         0.0  2063.225608\n",
              "\n",
              "[348 rows x 16 columns]>"
            ]
          },
          "metadata": {},
          "execution_count": 57
        }
      ]
    },
    {
      "cell_type": "code",
      "source": [
        "forecast[['ds', 'yhat', 'yhat_lower', 'yhat_upper']].tail()"
      ],
      "metadata": {
        "colab": {
          "base_uri": "https://localhost:8080/",
          "height": 206
        },
        "id": "rby2jZ-94m9Z",
        "outputId": "474f5427-4543-4459-ce93-5a2d90555847"
      },
      "execution_count": 58,
      "outputs": [
        {
          "output_type": "execute_result",
          "data": {
            "text/html": [
              "<div>\n",
              "<style scoped>\n",
              "    .dataframe tbody tr th:only-of-type {\n",
              "        vertical-align: middle;\n",
              "    }\n",
              "\n",
              "    .dataframe tbody tr th {\n",
              "        vertical-align: top;\n",
              "    }\n",
              "\n",
              "    .dataframe thead th {\n",
              "        text-align: right;\n",
              "    }\n",
              "</style>\n",
              "<table border=\"1\" class=\"dataframe\">\n",
              "  <thead>\n",
              "    <tr style=\"text-align: right;\">\n",
              "      <th></th>\n",
              "      <th>ds</th>\n",
              "      <th>yhat</th>\n",
              "      <th>yhat_lower</th>\n",
              "      <th>yhat_upper</th>\n",
              "    </tr>\n",
              "  </thead>\n",
              "  <tbody>\n",
              "    <tr>\n",
              "      <th>343</th>\n",
              "      <td>2018-08-01</td>\n",
              "      <td>2076.369515</td>\n",
              "      <td>2065.301114</td>\n",
              "      <td>2086.788509</td>\n",
              "    </tr>\n",
              "    <tr>\n",
              "      <th>344</th>\n",
              "      <td>2018-09-01</td>\n",
              "      <td>2067.030396</td>\n",
              "      <td>2055.875015</td>\n",
              "      <td>2078.637894</td>\n",
              "    </tr>\n",
              "    <tr>\n",
              "      <th>345</th>\n",
              "      <td>2018-10-01</td>\n",
              "      <td>2054.682992</td>\n",
              "      <td>2042.840415</td>\n",
              "      <td>2066.215007</td>\n",
              "    </tr>\n",
              "    <tr>\n",
              "      <th>346</th>\n",
              "      <td>2018-11-01</td>\n",
              "      <td>2052.813211</td>\n",
              "      <td>2039.812913</td>\n",
              "      <td>2064.664370</td>\n",
              "    </tr>\n",
              "    <tr>\n",
              "      <th>347</th>\n",
              "      <td>2018-12-01</td>\n",
              "      <td>2063.225608</td>\n",
              "      <td>2049.005558</td>\n",
              "      <td>2076.969270</td>\n",
              "    </tr>\n",
              "  </tbody>\n",
              "</table>\n",
              "</div>"
            ],
            "text/plain": [
              "            ds         yhat   yhat_lower   yhat_upper\n",
              "343 2018-08-01  2076.369515  2065.301114  2086.788509\n",
              "344 2018-09-01  2067.030396  2055.875015  2078.637894\n",
              "345 2018-10-01  2054.682992  2042.840415  2066.215007\n",
              "346 2018-11-01  2052.813211  2039.812913  2064.664370\n",
              "347 2018-12-01  2063.225608  2049.005558  2076.969270"
            ]
          },
          "metadata": {},
          "execution_count": 58
        }
      ]
    },
    {
      "cell_type": "code",
      "source": [
        "model.plot(forecast);"
      ],
      "metadata": {
        "colab": {
          "base_uri": "https://localhost:8080/",
          "height": 441
        },
        "id": "P6orUPm74pDB",
        "outputId": "9bb86d5a-06b3-417a-fc11-e45eeda9e7e0"
      },
      "execution_count": 59,
      "outputs": [
        {
          "output_type": "display_data",
          "data": {
            "image/png": "[encoded data removed]",
            "text/plain": [
              "<Figure size 720x432 with 1 Axes>"
            ]
          },
          "metadata": {}
        }
      ]
    },
    {
      "cell_type": "code",
      "source": [
        "model.plot_components(forecast);"
      ],
      "metadata": {
        "colab": {
          "base_uri": "https://localhost:8080/",
          "height": 441
        },
        "id": "aAdl2jT04t3x",
        "outputId": "fcdd99f3-ec6d-40ca-95a9-a6361f59f955"
      },
      "execution_count": 60,
      "outputs": [
        {
          "output_type": "display_data",
          "data": {
            "image/png": "[encoded data removed]",
            "text/plain": [
              "<Figure size 648x432 with 2 Axes>"
            ]
          },
          "metadata": {}
        }
      ]
    },
    {
      "cell_type": "code",
      "source": [
        "from sklearn.metrics import mean_absolute_error\n",
        "\n",
        "mean_absolute_error(forecast['yhat'].tail(12), test_0['y']) "
      ],
      "metadata": {
        "colab": {
          "base_uri": "https://localhost:8080/"
        },
        "id": "jfM7s9_C4yig",
        "outputId": "0d7de19a-9cd4-43cd-c997-eb5549d6e154"
      },
      "execution_count": 61,
      "outputs": [
        {
          "output_type": "execute_result",
          "data": {
            "text/plain": [
              "51.062927174242624"
            ]
          },
          "metadata": {},
          "execution_count": 61
        }
      ]
    },
    {
      "cell_type": "code",
      "source": [
        "modul_dif = np.abs(forecast.tail(12).reset_index()['yhat'] - test_0['y'])"
      ],
      "metadata": {
        "id": "D7Qz4uon41az"
      },
      "execution_count": 62,
      "outputs": []
    },
    {
      "cell_type": "code",
      "source": [
        "dif = np.mean(modul_dif/test_0['y']) # считаем среднее арифметическое отклонение \n",
        "dif_percent = dif*100 # получаем процент\n",
        "dif_percent"
      ],
      "metadata": {
        "colab": {
          "base_uri": "https://localhost:8080/"
        },
        "id": "YEmmxyZs4-Vt",
        "outputId": "92355f3f-26f3-4116-930a-5d9dc529753e"
      },
      "execution_count": 63,
      "outputs": [
        {
          "output_type": "execute_result",
          "data": {
            "text/plain": [
              "2.5677471600830106"
            ]
          },
          "metadata": {},
          "execution_count": 63
        }
      ]
    },
    {
      "cell_type": "code",
      "source": [
        "np.mean(np.abs(forecast.tail(12).reset_index()['yhat'] - test_0['y'])/test_0['y'])*100"
      ],
      "metadata": {
        "colab": {
          "base_uri": "https://localhost:8080/"
        },
        "id": "736KJ8U_5CVt",
        "outputId": "6b586746-172f-4935-9771-2d5d69cdb358"
      },
      "execution_count": 64,
      "outputs": [
        {
          "output_type": "execute_result",
          "data": {
            "text/plain": [
              "2.5677471600830106"
            ]
          },
          "metadata": {},
          "execution_count": 64
        }
      ]
    },
    {
      "cell_type": "code",
      "source": [
        "model_1 = Prophet(growth = 'linear', yearly_seasonality = True, seasonality_mode='additive') \n",
        "model_1.fit(train_0)"
      ],
      "metadata": {
        "colab": {
          "base_uri": "https://localhost:8080/"
        },
        "id": "2iRrJ6G25GC-",
        "outputId": "abf887b9-4c92-4fcd-a3c7-c8971d4c6e43"
      },
      "execution_count": 65,
      "outputs": [
        {
          "output_type": "stream",
          "name": "stderr",
          "text": [
            "INFO:fbprophet:Disabling weekly seasonality. Run prophet with weekly_seasonality=True to override this.\n",
            "INFO:fbprophet:Disabling daily seasonality. Run prophet with daily_seasonality=True to override this.\n"
          ]
        },
        {
          "output_type": "execute_result",
          "data": {
            "text/plain": [
              "<fbprophet.forecaster.Prophet at 0x7f89e30cedd0>"
            ]
          },
          "metadata": {},
          "execution_count": 65
        }
      ]
    },
    {
      "cell_type": "code",
      "source": [
        "future_1 = model_1.make_future_dataframe(periods=12, freq='MS') \n",
        "forecast_1 = model_1.predict(future_1) \n",
        "error_forecast_1 = mean_absolute_error(forecast_1['yhat'].tail(12), test_0['y'])\n",
        "print('MSE: ', error_forecast_1)"
      ],
      "metadata": {
        "colab": {
          "base_uri": "https://localhost:8080/"
        },
        "id": "sRLjb1yI5Irl",
        "outputId": "9181b7cf-8ea1-4737-eb3e-9fbf10d40a64"
      },
      "execution_count": 66,
      "outputs": [
        {
          "output_type": "stream",
          "name": "stdout",
          "text": [
            "MSE:  51.062927174242624\n"
          ]
        }
      ]
    },
    {
      "cell_type": "code",
      "source": [
        "np.mean(np.abs(forecast_1.tail(12).reset_index()['yhat'] - test_0['y'])/test_0['y'])*100"
      ],
      "metadata": {
        "colab": {
          "base_uri": "https://localhost:8080/"
        },
        "id": "Y_CDOc615RdU",
        "outputId": "e2ffea59-81b1-486d-c611-03f2a500f632"
      },
      "execution_count": 67,
      "outputs": [
        {
          "output_type": "execute_result",
          "data": {
            "text/plain": [
              "2.5677471600830106"
            ]
          },
          "metadata": {},
          "execution_count": 67
        }
      ]
    }
  ]
}